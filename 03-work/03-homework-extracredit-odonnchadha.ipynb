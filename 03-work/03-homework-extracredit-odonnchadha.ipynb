{
 "cells": [
  {
   "cell_type": "code",
   "execution_count": 4,
   "metadata": {},
   "outputs": [
    {
     "name": "stdout",
     "output_type": "stream",
     "text": [
      "<class 'pg8000.core.Connection'>\n",
      "<class 'pg8000.core.Cursor'>\n"
     ]
    }
   ],
   "source": [
    "import pg8000\n",
    "conn = pg8000.connect(database=\"mondial\", user=\"postgres\", password=\"August\")\n",
    "print(type(conn))\n",
    "cursor = conn.cursor()\n",
    "print(type(cursor))"
   ]
  },
  {
   "cell_type": "code",
   "execution_count": 19,
   "metadata": {},
   "outputs": [],
   "source": [
    "conn.rollback()"
   ]
  },
  {
   "cell_type": "markdown",
   "metadata": {},
   "source": [
    "**#1** (0.5 pts)\n",
    "\n",
    "**Top 20 highest airports in the USA.**"
   ]
  },
  {
   "cell_type": "code",
   "execution_count": 5,
   "metadata": {},
   "outputs": [
    {
     "name": "stdout",
     "output_type": "stream",
     "text": [
      "['Santa Fe Muni', 'Santa Fe', Decimal('1935')]\n",
      "['City Of Colorado Springs Muni', 'Colorado Springs', Decimal('1886')]\n",
      "['Cheyenne Rgnl Jerry Olson Fld', 'Cheyenne', Decimal('1877')]\n",
      "['Denver Intl', 'Denver', Decimal('1656')]\n",
      "['Albuquerque International Sunport', 'Albuquerque', Decimal('1633')]\n",
      "['Reno Tahoe Intl', 'Reno', Decimal('1346')]\n",
      "['Salt Lake City Intl', 'Salt Lake City', Decimal('1289')]\n",
      "['El Paso Intl', 'El Paso', Decimal('1207')]\n",
      "['Helena Rgnl', 'Helena', Decimal('1182')]\n",
      "['Billings Logan International Airport', 'Billings', Decimal('1113')]\n",
      "['Rick Husband Amarillo Intl', 'Amarillo', Decimal('1100')]\n",
      "['Lubbock Preston Smith Intl', 'Lubbock', Decimal('1001')]\n",
      "['Boise Air Terminal', 'Boise City', Decimal('875')]\n",
      "['Tucson Intl', 'Tucson', Decimal('806')]\n",
      "['Spokane Intl', 'Spokane', Decimal('724')]\n",
      "['Mc Carran Intl', 'Las Vegas', Decimal('653')]\n",
      "['Abilene Rgnl', 'Abilene', Decimal('546')]\n",
      "['Pierre Regional Airport', 'Pierre', Decimal('531')]\n",
      "['Bismarck Municipal Airport', 'Bismarck', Decimal('506')]\n",
      "['Wichita Mid Continent', 'Wichita', Decimal('406')]\n"
     ]
    }
   ],
   "source": [
    "myquery = '''\n",
    "SELECT name, city, elevation FROM airport WHERE country = 'USA' ORDER BY elevation DESC LIMIT 20;\n",
    "'''\n",
    "cursor.execute(myquery)\n",
    "myresult = cursor.fetchall()\n",
    "for row in myresult:\n",
    "    print(row)"
   ]
  },
  {
   "cell_type": "markdown",
   "metadata": {},
   "source": [
    "**#2** (0.5 pts)\n",
    "\n",
    "**The five smallest seas in the world.**"
   ]
  },
  {
   "cell_type": "code",
   "execution_count": 6,
   "metadata": {},
   "outputs": [
    {
     "name": "stdout",
     "output_type": "stream",
     "text": [
      "['Marmara Sea', Decimal('11350')]\n",
      "['Lago de Maracaibo', Decimal('13512')]\n",
      "['San Francisco Bay', Decimal('13512')]\n",
      "['Seto Inland Sea', Decimal('23200')]\n",
      "['Kattegat', Decimal('30000')]\n"
     ]
    }
   ],
   "source": [
    "myquery = '''\n",
    "SELECT name, area FROM sea ORDER BY area LIMIT 5;\n",
    "'''\n",
    "cursor.execute(myquery)\n",
    "myresult = cursor.fetchall()\n",
    "for row in myresult:\n",
    "    print(row)"
   ]
  },
  {
   "cell_type": "markdown",
   "metadata": {},
   "source": [
    "**#3** (0.5 pts)\n",
    "\n",
    "**Governments that gained independence between Jan. 1 1950 and Dec. 31, 1999.**"
   ]
  },
  {
   "cell_type": "code",
   "execution_count": 7,
   "metadata": {},
   "outputs": [
    {
     "name": "stdout",
     "output_type": "stream",
     "text": [
      "['Antigua and Barbuda', datetime.date(1981, 11, 1), 'GB']\n",
      "['Angola', datetime.date(1975, 11, 11), 'P']\n",
      "['Azerbaijan', datetime.date(1991, 8, 30), 'Soviet Union']\n",
      "['Bangladesh', datetime.date(1971, 12, 16), 'PK']\n",
      "['Barbados', datetime.date(1966, 11, 30), 'GB']\n",
      "['Benin', datetime.date(1960, 8, 1), 'F']\n",
      "['Burkina Faso', datetime.date(1960, 8, 5), 'F']\n",
      "['Burundi', datetime.date(1962, 7, 1), 'United Nations']\n",
      "['Bosnia and Herzegovina', datetime.date(1992, 4, 1), 'Yugoslavia']\n",
      "['Brunei', datetime.date(1984, 1, 1), 'GB']\n",
      "['Bahamas', datetime.date(1973, 7, 10), 'GB']\n",
      "['Belarus', datetime.date(1991, 8, 25), 'Soviet Union']\n",
      "['Belize', datetime.date(1981, 9, 21), 'GB']\n",
      "['Cameroon', datetime.date(1960, 1, 1), 'United Nations']\n",
      "[\"Cote d'Ivoire\", datetime.date(1960, 8, 7), 'F']\n",
      "['Comoros', datetime.date(1975, 7, 6), 'F']\n",
      "['Cape Verde', datetime.date(1975, 7, 5), 'P']\n",
      "['Cyprus', datetime.date(1960, 8, 16), 'GB']\n",
      "['Czech Republic', datetime.date(1993, 1, 1), 'Czechoslovakia']\n",
      "['Djibouti', datetime.date(1977, 6, 27), 'F']\n"
     ]
    }
   ],
   "source": [
    "myquery = '''\n",
    "SELECT country.name AS name, independence, wasdependent AS formerly FROM politics \n",
    "\tJOIN country ON politics.country = country.code \n",
    "\tWHERE independence BETWEEN '1950-01-01' AND '1999-12-31' \n",
    "\tORDER BY country LIMIT 20;\n",
    "'''\n",
    "cursor.execute(myquery)\n",
    "myresult = cursor.fetchall()\n",
    "for row in myresult:\n",
    "    print(row)"
   ]
  },
  {
   "cell_type": "markdown",
   "metadata": {},
   "source": [
    "**#4** (0.5 pts)\n",
    "\n",
    "**20 lowest cities in China.**"
   ]
  },
  {
   "cell_type": "code",
   "execution_count": 10,
   "metadata": {},
   "outputs": [
    {
     "name": "stdout",
     "output_type": "stream",
     "text": [
      "['Shenzhen', 'æ·±åœ³å¸‚', Decimal('2')]\n",
      "['Shanghai', 'ä¸Šæµ·å·¿', Decimal('4')]\n",
      "['Tianjin', 'å¤©æ´¥å·¿', Decimal('5')]\n",
      "['Dongguan', 'ä¸œèŽžå¸‚', Decimal('8')]\n",
      "['Huizhou', 'æƒ\\xa0å·žå¸‚', Decimal('15')]\n",
      "['Foshan', 'ä½›å±±å¸‚', Decimal('16')]\n",
      "['Guangzhou', 'å¹¿å·žå¸‚', Decimal('21')]\n",
      "['Dalian', 'å¤§è¿žå¸‚', Decimal('29')]\n",
      "['Wuhan', 'æ\\xad¦æ±‰å¸‚', Decimal('37')]\n",
      "['Beijing', 'åŒ—äº¬å·¿', Decimal('43.5')]\n",
      "['Shantou', 'æ±•å¤´å¸‚', Decimal('51')]\n",
      "['Shenyang', 'æ²ˆé˜³å¸‚', Decimal('55')]\n",
      "['Changsha', 'é•¿æ²™å¸‚', Decimal('63')]\n",
      "['Anyang', 'ì•ˆì–‘ì‹œ', Decimal('69')]\n",
      "['Xiangyang', 'è¥„é˜³å¸‚', Decimal('71')]\n",
      "['Linyi', 'ä¸´æ²‚å¸‚', Decimal('74')]\n",
      "['Shijiazhuang', 'çŸ³å®¶åº„å¸‚', Decimal('83')]\n",
      "['Harbin', 'å“ˆå°”æ»¨å¸‚', Decimal('150')]\n",
      "['Changchun', 'é•¿æ˜¥å¸‚', Decimal('222')]\n",
      "['Xian', 'è¥¿å®‰å¸‚', Decimal('405')]\n"
     ]
    }
   ],
   "source": [
    "myquery = '''\n",
    "SELECT name, citylocalname.localname, elevation \n",
    "    FROM city \n",
    "    JOIN citylocalname ON citylocalname.city = city.name \n",
    "    WHERE city.country = 'CN' ORDER BY elevation LIMIT 20;\n",
    "'''\n",
    "cursor.execute(myquery)\n",
    "myresult = cursor.fetchall()\n",
    "for row in myresult:\n",
    "    print(row)"
   ]
  },
  {
   "cell_type": "markdown",
   "metadata": {},
   "source": [
    "**#5** (0.5 pts)\n",
    "\n",
    "**Countries where population growth is a negative integer.**"
   ]
  },
  {
   "cell_type": "code",
   "execution_count": 12,
   "metadata": {},
   "outputs": [
    {
     "name": "stdout",
     "output_type": "stream",
     "text": [
      "['Syria', Decimal('-9.73')]\n",
      "['Cook Islands', Decimal('-3')]\n",
      "['Moldova', Decimal('-1.02')]\n",
      "['Saint Pierre and Miquelon', Decimal('-1.02')]\n",
      "['Bulgaria', Decimal('-0.83')]\n",
      "['Estonia', Decimal('-0.68')]\n",
      "['Puerto Rico', Decimal('-0.65')]\n",
      "['Ukraine', Decimal('-0.64')]\n",
      "['Latvia', Decimal('-0.62')]\n",
      "['Virgin Islands', Decimal('-0.56')]\n",
      "['Montenegro', Decimal('-0.49')]\n",
      "['South Africa', Decimal('-0.48')]\n",
      "['Serbia', Decimal('-0.46')]\n",
      "['Micronesia', Decimal('-0.42')]\n",
      "['American Samoa', Decimal('-0.35')]\n",
      "['Lithuania', Decimal('-0.29')]\n",
      "['Romania', Decimal('-0.29')]\n",
      "['Saint Vincent and the Grenadines', Decimal('-0.29')]\n",
      "['Slovenia', Decimal('-0.23')]\n",
      "['Hungary', Decimal('-0.21')]\n"
     ]
    }
   ],
   "source": [
    "myquery = '''\n",
    "SELECT country.name, population_growth \n",
    "    FROM population \n",
    "    JOIN country ON country.code = population.country \n",
    "    WHERE population_growth < 0 \n",
    "    ORDER BY population_growth, country.name LIMIT 20;\n",
    "'''\n",
    "cursor.execute(myquery)\n",
    "myresult = cursor.fetchall()\n",
    "for row in myresult:\n",
    "    print(row)"
   ]
  },
  {
   "cell_type": "markdown",
   "metadata": {},
   "source": [
    "**#6** (1 pts)\n",
    "\n",
    "**Which countries share the longest border? (Need full name of countries)**"
   ]
  },
  {
   "cell_type": "code",
   "execution_count": 15,
   "metadata": {},
   "outputs": [
    {
     "name": "stdout",
     "output_type": "stream",
     "text": [
      "['Canada', 'United States', Decimal('8893')]\n",
      "['Kazakhstan', 'Russia', Decimal('6846')]\n",
      "['Argentina', 'Chile', Decimal('5150')]\n"
     ]
    }
   ],
   "source": [
    "myquery = '''\n",
    "SELECT cnt1.name AS Country_1, cnt2.name AS Country_2, borders.length AS Border_Length FROM borders \n",
    "\tJOIN country AS cnt1 ON borders.country1 = cnt1.code  \n",
    "\tJOIN country AS cnt2 ON borders.country2 = cnt2.code\n",
    "\tORDER BY borders.length DESC LIMIT 3;\n",
    "'''\n",
    "cursor.execute(myquery)\n",
    "myresult = cursor.fetchall()\n",
    "for row in myresult:\n",
    "    print(row)"
   ]
  },
  {
   "cell_type": "markdown",
   "metadata": {},
   "source": [
    "**#7** (1 pts)\n",
    "\n",
    "**Top 3 most common religions in the 10 poorest countries in the world.**"
   ]
  },
  {
   "cell_type": "code",
   "execution_count": 21,
   "metadata": {},
   "outputs": [
    {
     "name": "stdout",
     "output_type": "stream",
     "text": [
      "['Tokelau', Decimal('1.5'), 'Congregational Christian', Decimal('58.2')]\n",
      "['Tokelau', Decimal('1.5'), 'Roman Catholic', Decimal('36.6')]\n",
      "['Niue', Decimal('10'), 'Ekalesia Niue', Decimal('61')]\n",
      "['Niue', Decimal('10'), 'Mormon', Decimal('10')]\n",
      "['Niue', Decimal('10'), 'Roman Catholic', Decimal('7.2')]\n",
      "['Tuvalu', Decimal('38'), 'Church Tuvalu', Decimal('97')]\n",
      "['Tuvalu', Decimal('38'), 'Seventh-Day Adventist', Decimal('1.4')]\n",
      "['Tuvalu', Decimal('38'), 'Bahai', Decimal('1')]\n",
      "['Wallis and Futuna', Decimal('60'), 'Roman Catholic', Decimal('99')]\n",
      "['Nauru', Decimal('100'), 'Christian', Decimal('100')]\n",
      "['Kiribati', Decimal('173'), 'Roman Catholic', Decimal('52.6')]\n",
      "['Kiribati', Decimal('173'), 'Protestant', Decimal('40.9')]\n",
      "['Kiribati', Decimal('173'), 'Mormon', Decimal('6')]\n",
      "['Anguilla', Decimal('175.4'), 'Protestant', Decimal('30.2')]\n",
      "['Anguilla', Decimal('175.4'), 'Anglican', Decimal('29')]\n",
      "['Anguilla', Decimal('175.4'), 'Methodist', Decimal('23.9')]\n",
      "['Anguilla', Decimal('175.4'), 'Roman Catholic', Decimal('5.7')]\n",
      "['Cook Islands', Decimal('183.2'), 'Christian', Decimal('100')]\n",
      "['Marshall Islands', Decimal('193'), 'Christian', Decimal('100')]\n",
      "['Saint Pierre and Miquelon', Decimal('215.3'), 'Roman Catholic', Decimal('99')]\n"
     ]
    }
   ],
   "source": [
    "myquery = '''\n",
    "WITH poorten AS (\n",
    "\t\tSELECT country, gdp FROM economy ORDER BY gdp LIMIT 13)\n",
    "\tSELECT country.name, poorten.gdp, religion.name, religion.percentage \n",
    "\tFROM religion \n",
    "\tJOIN poorten ON poorten.country = religion.country\n",
    "\tJOIN country ON country.code = religion.country\n",
    "\tORDER BY poorten.gdp, poorten.country, percentage DESC; \n",
    "'''\n",
    "cursor.execute(myquery)\n",
    "myresult = cursor.fetchall()\n",
    "for row in myresult:\n",
    "    print(row)"
   ]
  },
  {
   "cell_type": "markdown",
   "metadata": {},
   "source": [
    "**#8** (1 pts)\n",
    "\n",
    "**What is the correlation between the number of religions and the number of languages spoken?**"
   ]
  },
  {
   "cell_type": "code",
   "execution_count": null,
   "metadata": {},
   "outputs": [],
   "source": [
    "# messed this up\n",
    "myquery = '''\n",
    "SELECT country.name AS country, count(religion.name) AS religions, count(language.name) AS languages \n",
    "\tFROM religion \n",
    "\tJOIN language ON language.country = religion.country \n",
    "\tJOIN country ON country.code = religion.country\n",
    "\tGROUP BY country.name\n",
    "\tORDER BY count(religion.name) DESC, count(language.name) DESC LIMIT 20;\n",
    "'''\n",
    "cursor.execute(myquery)\n",
    "myresult = cursor.fetchall()\n",
    "for row in myresult:\n",
    "    print(row)"
   ]
  },
  {
   "cell_type": "markdown",
   "metadata": {},
   "source": [
    "**#9** (1 pts)\n",
    "\n",
    "**Rank countries which gained independence after 1990 by their GDP**"
   ]
  },
  {
   "cell_type": "code",
   "execution_count": 22,
   "metadata": {},
   "outputs": [
    {
     "name": "stdout",
     "output_type": "stream",
     "text": [
      "['Russia', datetime.date(1991, 8, 24), Decimal('2113000')]\n",
      "['Kazakhstan', datetime.date(1991, 12, 16), Decimal('224900')]\n",
      "['Czech Republic', datetime.date(1993, 1, 1), Decimal('194800')]\n",
      "['Ukraine', datetime.date(1991, 12, 1), Decimal('175500')]\n",
      "['Slovakia', datetime.date(1993, 1, 1), Decimal('96960')]\n",
      "['Azerbaijan', datetime.date(1991, 8, 30), Decimal('76010')]\n",
      "['Belarus', datetime.date(1991, 8, 25), Decimal('69240')]\n",
      "['Croatia', datetime.date(1991, 6, 25), Decimal('59140')]\n",
      "['Uzbekistan', datetime.date(1991, 8, 31), Decimal('55180')]\n",
      "['Slovenia', datetime.date(1991, 6, 25), Decimal('46820')]\n",
      "['Lithuania', datetime.date(1991, 9, 6), Decimal('46710')]\n",
      "['Yemen', datetime.date(1990, 5, 22), Decimal('43890')]\n",
      "['Serbia', datetime.date(1992, 4, 11), Decimal('43680')]\n",
      "['Turkmenistan', datetime.date(1991, 10, 27), Decimal('40560')]\n",
      "['Latvia', datetime.date(1991, 9, 6), Decimal('30380')]\n",
      "['Estonia', datetime.date(1991, 9, 6), Decimal('24280')]\n",
      "['Bosnia and Herzegovina', datetime.date(1992, 4, 1), Decimal('18870')]\n",
      "['Georgia', datetime.date(1991, 4, 9), Decimal('15950')]\n",
      "['Namibia', datetime.date(1990, 3, 21), Decimal('12300')]\n",
      "['South Sudan', datetime.date(2011, 7, 9), Decimal('11770')]\n",
      "['North Macedonia', datetime.date(1991, 9, 17), Decimal('10650')]\n",
      "['Tajikistan', datetime.date(1991, 9, 9), Decimal('8513')]\n",
      "['Moldova', datetime.date(1991, 8, 27), Decimal('7932')]\n",
      "['Kyrgyzstan', datetime.date(1991, 8, 31), Decimal('7234')]\n",
      "['Kosovo', datetime.date(2008, 2, 17), Decimal('7150')]\n",
      "['Timor-Leste', datetime.date(2002, 5, 20), Decimal('6129')]\n",
      "['Montenegro', datetime.date(2006, 6, 3), Decimal('4518')]\n",
      "['Eritrea', datetime.date(1993, 5, 27), Decimal('3438')]\n",
      "['Palau', datetime.date(1994, 10, 1), Decimal('221')]\n"
     ]
    }
   ],
   "source": [
    "myquery = '''\n",
    "SELECT country.name, politics.independence, economy.gdp\n",
    "\tFROM politics \n",
    "\tJOIN economy ON politics.country = economy.country\n",
    "\tJOIN country ON politics.country = country.code \n",
    "\tWHERE independence >= '1990-01-01'\n",
    "\tORDER BY gdp DESC;\n",
    "'''\n",
    "cursor.execute(myquery)\n",
    "myresult = cursor.fetchall()\n",
    "for row in myresult:\n",
    "    print(row)"
   ]
  },
  {
   "cell_type": "markdown",
   "metadata": {},
   "source": [
    "**#10** (1 pts)\n",
    "\n",
    "**What is the type of government for the countries with the ten highest and lowest GDP?**"
   ]
  },
  {
   "cell_type": "code",
   "execution_count": null,
   "metadata": {},
   "outputs": [],
   "source": [
    "myquery = '''\n",
    "(SELECT country.name, politics.government, economy.gdp\n",
    "\tFROM politics \n",
    "\tJOIN economy ON politics.country = economy.country\n",
    "\tJOIN country ON politics.country = country.code \n",
    "\tORDER BY gdp DESC NULLS LAST LIMIT 10) \n",
    "UNION ALL \n",
    "(SELECT country.name, politics.government, economy.gdp\n",
    "\tFROM politics \n",
    "\tJOIN economy ON politics.country = economy.country\n",
    "\tJOIN country ON politics.country = country.code \n",
    "\tORDER BY gdp LIMIT 10);\n",
    "'''\n",
    "cursor.execute(myquery)\n",
    "myresult = cursor.fetchall()\n",
    "for row in myresult:\n",
    "    print(row)"
   ]
  },
  {
   "cell_type": "markdown",
   "metadata": {},
   "source": [
    "**#11** (1 pts)\n",
    "\n",
    "**Top 5 rivers that flow through the most provinces in Eastern Europe (or just Europe)**"
   ]
  },
  {
   "cell_type": "code",
   "execution_count": null,
   "metadata": {},
   "outputs": [],
   "source": [
    "#ANSWERED IN CLASS"
   ]
  },
  {
   "cell_type": "markdown",
   "metadata": {},
   "source": [
    "**#12** (1 pts)\n",
    "\n",
    "**The 5 tallest mountains in Greece.**"
   ]
  },
  {
   "cell_type": "code",
   "execution_count": null,
   "metadata": {},
   "outputs": [],
   "source": [
    "#ANSWERED IN CLASS"
   ]
  },
  {
   "cell_type": "markdown",
   "metadata": {},
   "source": [
    "**#13** (1 pts)\n",
    "\n",
    "**The GDP of the most populous country on each continent. (I moved this lower because it's pretty tricky, don't get too caught up on it!)**"
   ]
  },
  {
   "cell_type": "code",
   "execution_count": null,
   "metadata": {},
   "outputs": [],
   "source": [
    "myquery = '''\n",
    "\n",
    "'''\n",
    "cursor.execute(myquery)\n",
    "myresult = cursor.fetchall()\n",
    "for row in myresult:\n",
    "    print(row)"
   ]
  },
  {
   "cell_type": "markdown",
   "metadata": {},
   "source": [
    "**#14** (1 pts)\n",
    "\n",
    "**Languages shared across borders (list the language and the two countries it goes across)**"
   ]
  },
  {
   "cell_type": "code",
   "execution_count": null,
   "metadata": {},
   "outputs": [],
   "source": [
    "myquery = '''\n",
    "\n",
    "'''\n",
    "cursor.execute(myquery)\n",
    "myresult = cursor.fetchall()\n",
    "for row in myresult:\n",
    "    print(row)"
   ]
  }
 ],
 "metadata": {
  "kernelspec": {
   "display_name": "Python 3",
   "language": "python",
   "name": "python3"
  },
  "language_info": {
   "codemirror_mode": {
    "name": "ipython",
    "version": 3
   },
   "file_extension": ".py",
   "mimetype": "text/x-python",
   "name": "python",
   "nbconvert_exporter": "python",
   "pygments_lexer": "ipython3",
   "version": "3.7.3"
  }
 },
 "nbformat": 4,
 "nbformat_minor": 2
}
