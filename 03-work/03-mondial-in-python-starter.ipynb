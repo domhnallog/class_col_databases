{
 "cells": [
  {
   "cell_type": "code",
   "execution_count": 2,
   "metadata": {},
   "outputs": [
    {
     "name": "stdout",
     "output_type": "stream",
     "text": [
      "<class 'pg8000.core.Connection'>\n",
      "<class 'pg8000.core.Cursor'>\n"
     ]
    }
   ],
   "source": [
    "import pg8000\n",
    "conn = pg8000.connect(database=\"mondial\", user=\"postgres\", password=\"August\")\n",
    "print(type(conn))\n",
    "cursor = conn.cursor()\n",
    "print(type(cursor))"
   ]
  },
  {
   "cell_type": "code",
   "execution_count": null,
   "metadata": {},
   "outputs": [],
   "source": [
    "conn.rollback()"
   ]
  },
  {
   "cell_type": "code",
   "execution_count": null,
   "metadata": {},
   "outputs": [],
   "source": [
    "myquery = '''\n",
    "\n",
    "'''\n",
    "cursor.execute(myquery)\n",
    "myresult = cursor.fetchall()\n",
    "for row in myresult:\n",
    "    print(row)"
   ]
  },
  {
   "cell_type": "code",
   "execution_count": null,
   "metadata": {},
   "outputs": [],
   "source": []
  }
 ],
 "metadata": {
  "kernelspec": {
   "display_name": "Python 3",
   "language": "python",
   "name": "python3"
  },
  "language_info": {
   "codemirror_mode": {
    "name": "ipython",
    "version": 3
   },
   "file_extension": ".py",
   "mimetype": "text/x-python",
   "name": "python",
   "nbconvert_exporter": "python",
   "pygments_lexer": "ipython3",
   "version": "3.7.3"
  }
 },
 "nbformat": 4,
 "nbformat_minor": 2
}
