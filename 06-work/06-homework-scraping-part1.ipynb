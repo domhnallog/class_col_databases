{
 "cells": [
  {
   "cell_type": "markdown",
   "metadata": {},
   "source": [
    "## Homework 3: Scraping Part One\n",
    "This homework asks you to scrape the dialogue from one act in Shakespeare, please follow the instructions and do the best you can. With the exception of the first cell that imports the request and the beautiful soup library, I have not pre-written any code for you. Do not be afraid--you may look at the tutorial for examples, as well as the Beautiful Soup documentation, and any other Python resource (such a Stack overflow) if need be. \n",
    "\n",
    "This homework is intended to be challenging, if you only get 70% of the stuff done that's great!"
   ]
  },
  {
   "cell_type": "code",
   "execution_count": null,
   "metadata": {
    "collapsed": true
   },
   "outputs": [],
   "source": [
    "import requests\n",
    "from bs4 import BeautifulSoup"
   ]
  },
  {
   "cell_type": "markdown",
   "metadata": {},
   "source": [
    "## Shakespeare \n",
    "I've posted some relatively simple HTML of the first act of William Shakespeare's The Tempest here: http://floatingmedia.com/columbia/tempest.html please use that URL to download the HTML and put it through Beautiful Soup. (It also may be very helpful for you to go to that page in chrome and inspect elements why you do this.) \n",
    "**Please note: there are 2 scenes in Act 1**\n",
    "\n"
   ]
  },
  {
   "cell_type": "markdown",
   "metadata": {},
   "source": [
    "In the cells below you should you make two lines--a variable that requests and reads the HTML from the URL (http://floatingmedia.com/columbia/tempest.html), and a second variable that passes the raw HTML into Beautiful Soup. You will use that beautiful soup variable to search the HTML."
   ]
  },
  {
   "cell_type": "code",
   "execution_count": null,
   "metadata": {
    "collapsed": true
   },
   "outputs": [],
   "source": []
  },
  {
   "cell_type": "markdown",
   "metadata": {},
   "source": [
    "Get the title of the play:\n",
    "\n"
   ]
  },
  {
   "cell_type": "code",
   "execution_count": null,
   "metadata": {
    "collapsed": true
   },
   "outputs": [],
   "source": []
  },
  {
   "cell_type": "markdown",
   "metadata": {},
   "source": [
    "Get the HTML that contains the setting of Act One Scene 1:"
   ]
  },
  {
   "cell_type": "code",
   "execution_count": null,
   "metadata": {
    "collapsed": true
   },
   "outputs": [],
   "source": []
  },
  {
   "cell_type": "markdown",
   "metadata": {},
   "source": [
    "Get the setting of Act One Scene 1 (without HTML tags):"
   ]
  },
  {
   "cell_type": "code",
   "execution_count": null,
   "metadata": {
    "collapsed": true
   },
   "outputs": [],
   "source": []
  },
  {
   "cell_type": "markdown",
   "metadata": {},
   "source": [
    "Get the setting of scene 2"
   ]
  },
  {
   "cell_type": "code",
   "execution_count": null,
   "metadata": {
    "collapsed": true
   },
   "outputs": [],
   "source": []
  },
  {
   "cell_type": "markdown",
   "metadata": {},
   "source": [
    "Get the name of the first character in Scene 1"
   ]
  },
  {
   "cell_type": "code",
   "execution_count": null,
   "metadata": {
    "collapsed": true
   },
   "outputs": [],
   "source": []
  },
  {
   "cell_type": "markdown",
   "metadata": {},
   "source": [
    "Get a list of all of characters in Scene 1 (repeats are fine, you need a loop here)"
   ]
  },
  {
   "cell_type": "code",
   "execution_count": null,
   "metadata": {
    "collapsed": true
   },
   "outputs": [],
   "source": []
  },
  {
   "cell_type": "markdown",
   "metadata": {},
   "source": [
    "**Bonus:** write a script that takes all the duplicates out of the list. (This is a python thing, not a beautiful soup thing.)"
   ]
  },
  {
   "cell_type": "code",
   "execution_count": null,
   "metadata": {
    "collapsed": true
   },
   "outputs": [],
   "source": []
  },
  {
   "cell_type": "markdown",
   "metadata": {},
   "source": [
    "Display every stage direction in _scene 2_"
   ]
  },
  {
   "cell_type": "code",
   "execution_count": null,
   "metadata": {
    "collapsed": true
   },
   "outputs": [],
   "source": []
  },
  {
   "cell_type": "markdown",
   "metadata": {},
   "source": [
    "Get the HTML containing Miranda's first speech in Scene 2"
   ]
  },
  {
   "cell_type": "code",
   "execution_count": null,
   "metadata": {
    "collapsed": true
   },
   "outputs": [],
   "source": []
  },
  {
   "cell_type": "markdown",
   "metadata": {},
   "source": [
    "Now display those **same lines without the speaker's name, and no HTML.**\n",
    "\n",
    "This is a bit tricky, try to get as close to this result as you can. (Note: I didn't get the numbers out of there, but it's fine if you want to get them out too):\n",
    "\n",
    "`If by your art, my dearest father, you have\n",
    " \n",
    "85\n",
    "Put the wild waters in this roar, allay them.\n",
    "\n",
    "The sky, it seems, would pour down stinking pitch,\n",
    "\n",
    "But that the sea, mounting to the welkin's cheek,\n",
    "\n",
    "Dashes the fire out. O, I have suffered\n",
    "\n",
    "With those that I saw suffer: a brave vessel,\n",
    " \n",
    "90\n",
    "Who had, no doubt, some noble creature in her,\n",
    "\n",
    "Dash'd all to pieces. O, the cry did knock\n",
    "\n",
    "Against my very heart. Poor souls, they perish'd.\n",
    "\n",
    "Had I been any god of power, I would\n",
    "\n",
    "Have sunk the sea within the earth or ere\n",
    " \n",
    "95\n",
    "It should the good ship so have swallow'd and\n",
    "\n",
    "The fraughting souls within her.`"
   ]
  },
  {
   "cell_type": "code",
   "execution_count": null,
   "metadata": {
    "collapsed": true
   },
   "outputs": [],
   "source": []
  },
  {
   "cell_type": "markdown",
   "metadata": {},
   "source": [
    "Get the HTML containing the speech after Miranda's"
   ]
  },
  {
   "cell_type": "code",
   "execution_count": null,
   "metadata": {
    "collapsed": true
   },
   "outputs": [],
   "source": []
  },
  {
   "cell_type": "markdown",
   "metadata": {
    "collapsed": true
   },
   "source": [
    "All done!"
   ]
  }
 ],
 "metadata": {
  "kernelspec": {
   "display_name": "Python 3",
   "language": "python",
   "name": "python3"
  },
  "language_info": {
   "codemirror_mode": {
    "name": "ipython",
    "version": 3
   },
   "file_extension": ".py",
   "mimetype": "text/x-python",
   "name": "python",
   "nbconvert_exporter": "python",
   "pygments_lexer": "ipython3",
   "version": "3.7.3"
  }
 },
 "nbformat": 4,
 "nbformat_minor": 2
}
