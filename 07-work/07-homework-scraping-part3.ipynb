{
 "cells": [
  {
   "cell_type": "markdown",
   "metadata": {},
   "source": [
    "## Homework 3 Part Two: Scraping\n",
    "This homework asks you to scrape from two different sources: Supreme Court Decisions and a more complicated version of Shakespeare (bonus). \n",
    "\n",
    "Again, please follow the instructions and do the best you can. Look at the tutorial for examples, as well as the Beautiful Soup documentation, and any other Python resource (such as Stack overflow). As you get further into this assignment a lot of the trick will be using loops properly and appending information into lists. One of the great ways to carefully use Beautiful Soup is to first use find() to find the first instance of something and search through it. And then use find_all() to get a list of results that you must then loop throughIn search within.\n",
    "\n",
    "Again, if you only get 70% of the stuff done that's great!"
   ]
  },
  {
   "cell_type": "code",
   "execution_count": null,
   "metadata": {
    "collapsed": true
   },
   "outputs": [],
   "source": [
    "import requests\n",
    "from bs4 import BeautifulSoup"
   ]
  },
  {
   "cell_type": "markdown",
   "metadata": {},
   "source": [
    "## Supreme Court Decisions 2018 \n",
    "Okay now it's time to scrape from reality. The Supreme Court posts its decisions in a format that is not particularly data friendly. They have a simple HTML table with some information about the decision, including a link to a PDF that contains the written decision. We won't mess with those PDFs this week, but we do want to transform their tables into something useful to us. \n",
    "\n",
    "We will be scraping this page: \n",
    "https://www.supremecourt.gov/opinions/slipopinion/18\n",
    "\n",
    "*Note:* While you won't see all of the tables for all the months when you go to the page, they are all there in the HTML that you will download and in the HTML source you view (which is the same thing). Definitely do a view source, and study the structure of the HTML tables before you start coding.\n",
    "\n",
    "You eventually want to end up with a list of lists (rows and then columns) for every decision from the 2018. Follow the process, and see how far you get.\n"
   ]
  },
  {
   "cell_type": "markdown",
   "metadata": {},
   "source": [
    "Once again, Write your lines that use requests to get the page, and a second variable that passes the raw HTML into Beautiful Soup for parsing. Include a third line that prints the HTML in the prettify() way."
   ]
  },
  {
   "cell_type": "code",
   "execution_count": null,
   "metadata": {
    "collapsed": true
   },
   "outputs": [],
   "source": []
  },
  {
   "cell_type": "markdown",
   "metadata": {},
   "source": [
    "Isolate the HTML row with the first row of information for the case Quarles v. United States (as of 6/10/19 that is the most recent case. These things can update though!)"
   ]
  },
  {
   "cell_type": "code",
   "execution_count": null,
   "metadata": {
    "collapsed": true
   },
   "outputs": [],
   "source": []
  },
  {
   "cell_type": "markdown",
   "metadata": {},
   "source": [
    "Print out each cell of information from that first row. Your output should look like this:\n",
    "\n",
    "\n",
    "```\n",
    "51\n",
    "6/10/19\n",
    "17-778\n",
    "Quarles v. United States\n",
    " \n",
    "BK\n",
    "587/2\n",
    "```"
   ]
  },
  {
   "cell_type": "code",
   "execution_count": null,
   "metadata": {
    "collapsed": true
   },
   "outputs": [],
   "source": []
  },
  {
   "cell_type": "markdown",
   "metadata": {},
   "source": [
    "But wait, there is more information hidden inside the tags! Really important information. Find it and print it out like this (still just for this first row):\n",
    "```\n",
    "/opinions/18pdf/17-778_7li8.pdf \n",
    " Michigan’s third-degree home-invasion statute substantially corresponds to or is narrower than generic burglary for purposes of qualifying for enhanced sentencing under the Armed Career Criminal Act.\n",
    " ```"
   ]
  },
  {
   "cell_type": "code",
   "execution_count": null,
   "metadata": {
    "collapsed": true
   },
   "outputs": [],
   "source": []
  },
  {
   "cell_type": "markdown",
   "metadata": {},
   "source": [
    "Okay, time to make this useful. Take the information you printed in the last two cells, and combine them all into a list. Output the list, it should look like this:\n",
    "```\n",
    "['51',\n",
    " '6/10/19',\n",
    " '17-778',\n",
    " 'Quarles v. United States',\n",
    " '\\xa0',\n",
    " 'BK',\n",
    " '587/2',\n",
    " '/opinions/18pdf/17-778_7li8.pdf',\n",
    " 'Michigan’s third-degree home-invasion statute substantially corresponds to or is narrower than generic burglary for purposes of qualifying for enhanced sentencing under the Armed Career Criminal Act.']\n",
    " ```\n",
    " "
   ]
  },
  {
   "cell_type": "code",
   "execution_count": null,
   "metadata": {
    "collapsed": true
   },
   "outputs": [],
   "source": [
    "#Combine everything you have coded so far,\n",
    "#Including finding that first row in the table\n",
    "#It will be useful for later\n"
   ]
  },
  {
   "cell_type": "markdown",
   "metadata": {},
   "source": [
    "Great! Now you want to go through all of the rows in that first table (but not the header), and get a list of lists with the information for every case in that row. Your output should look like this:\n",
    "\n",
    "```\n",
    "[['51',\n",
    "  '6/10/19',\n",
    "  '17-778',\n",
    "  'Quarles v. United States',\n",
    "  '\\xa0',\n",
    "  'BK',\n",
    "  '587/2',\n",
    "  '/opinions/18pdf/17-778_7li8.pdf',\n",
    "  'Michigan’s third-degree home-invasion statute substantially corresponds to or is narrower than generic burglary for purposes of qualifying for enhanced sentencing under the Armed Career Criminal Act.'],\n",
    " ['50',\n",
    "  '6/10/19',\n",
    "  '17-1594',\n",
    "  'Return Mail, Inc. v. Postal Service',\n",
    "  '\\xa0',\n",
    "  'SS',\n",
    "  '587/2',\n",
    "  '/opinions/18pdf/17-1594_1an2.pdf',\n",
    "  'The Federal Government is not a “person” capable of petitioning the Patent Trial and Appeal Board to institute patent review proceedings under the Leahy-Smith America Invents Act.'],\n",
    " ['49',\n",
    "  '6/10/19',\n",
    "  '18-389',\n",
    "  'Parker Drilling Management Services, Ltd. v. Newton',\n",
    "  '\\xa0',\n",
    "  'T',\n",
    "  '587/2',\n",
    "  '/opinions/18pdf/18-389_4g15.pdf',\n",
    "  'Under the Outer Continental Shelf Lands Act, where federal law addresses the relevant issue, state law is not adopted as surrogate federal law on the Outer Continental Shelf.'],\n",
    " ['48',\n",
    "  '6/03/19',\n",
    "  '17-1484',\n",
    "  'Azar v. Allina Health Services',\n",
    "  '\\xa0',\n",
    "  'NG',\n",
    "  '587/2',\n",
    "  '/opinions/18pdf/17-1484_4f57.pdf',\n",
    "  'Because the Department of Health and Human Services neglected its statutory notice-and-comment obligations when it revealed a new policy that dramatically—and retroactively—reduced Medicare payments to hospitals serving low-income patients, its policy must be vacated.'],\n",
    " ['47',\n",
    "  '6/03/19',\n",
    "  '18-489',\n",
    "  'Taggart v. Lorenzen',\n",
    "  '\\xa0',\n",
    "  'B',\n",
    "  '587/2',\n",
    "  '/opinions/18pdf/18-489_p8k0.pdf',\n",
    "  'A creditor may be held in civil contempt for violating a bankruptcy court’s discharge order if there is no fair ground of doubt as to whether the order barred the creditor’s conduct.'],\n",
    " ['46',\n",
    "  '6/03/19',\n",
    "  '18-525',\n",
    "  'Fort Bend County v. Davis',\n",
    "  '\\xa0',\n",
    "  'G',\n",
    "  '587/2',\n",
    "  '/opinions/18pdf/18-525_m6hn.pdf',\n",
    "  'The charge-filing precondition to suit set out in Title VII of the Civil Rights Act of 1964 is not a jurisdictional requirement.'],\n",
    " ['45',\n",
    "  '6/03/19',\n",
    "  '17-8995',\n",
    "  'Mont v. United States',\n",
    "  '6/03/19',\n",
    "  'T',\n",
    "  '587/2',\n",
    "  '/opinions/18pdf/17-8995_new_097c.pdf',\n",
    "  'Pretrial detention later credited as time served for a new conviction tolls a supervised-release term under 18 U. S. C. §3624(e), even if the court must make the tolling calculation after learning whether the time will be credited.']]\n",
    "  \n",
    "```"
   ]
  },
  {
   "cell_type": "code",
   "execution_count": null,
   "metadata": {
    "collapsed": true
   },
   "outputs": [],
   "source": []
  },
  {
   "cell_type": "markdown",
   "metadata": {},
   "source": [
    "Finally, go through EVERY table, and get out every row--no headers. So you have all of the 2018 decisions from 51-1 info in excellent list within list format."
   ]
  },
  {
   "cell_type": "code",
   "execution_count": null,
   "metadata": {
    "collapsed": true
   },
   "outputs": [],
   "source": []
  },
  {
   "cell_type": "markdown",
   "metadata": {},
   "source": [
    "## Real Shakespeare: Extra Credit\n",
    "The Folger  Shakespeare Library has HTML versions of their Shakespeare publicly available, but in terrible HTML format. If you want to challenge yourself try pulling out the first 100 lines of Twelfth Night, available here:\n",
    "\n",
    "http://floatingmedia.com/columbia/FolgerShakes/TN.html\n",
    "\n",
    "The final output should resemble what you see below. Each of these lines contains three elements:\n",
    "\n",
    "1) a code for act.scene.line along with whether is the stage direction \n",
    "2) the speaker or the last person who spoke prior to the stage direction\n",
    "3) a line or stage direction.\n",
    "\n",
    "`\n",
    "line-SD 1.1.0\tNOSPEAKER\tEnter Orsino, Duke of Illyria, Curio, and other Lords,\n",
    "line-SD 1.1.0\tNOSPEAKER\twith\n",
    "line-SD 1.1.0\tNOSPEAKER\t Musicians playing.\n",
    "line-1.1.1\tORSINO\tIf music be the food of love, play on.\n",
    "line-1.1.2\tORSINO\tGive me excess of it, that, surfeiting,\n",
    "line-1.1.3\tORSINO\tThe appetite may sicken and so die.\n",
    "line-1.1.4\tORSINO\tThat strain again! It had a dying fall.\n",
    "line-1.1.5\tORSINO\tO, it came o’er my ear like the sweet sound\n",
    "line-1.1.6\tORSINO\tThat breathes upon a bank of violets,\n",
    "line-1.1.7\tORSINO\tStealing and giving odor. Enough; no more.\n",
    "line-1.1.8\tORSINO\t’Tis not so sweet now as it was before.\n",
    "line-1.1.9\tORSINO\tO spirit of love, how quick and fresh art thou,\n",
    "line-1.1.10\tORSINO\tThat, notwithstanding thy capacity\n",
    "line-1.1.11\tORSINO\tReceiveth as the sea, naught enters there,\n",
    "line-1.1.12\tORSINO\tOf what validity and pitch soe’er,\n",
    "line-1.1.13\tORSINO\tBut falls into abatement and low price\n",
    "line-1.1.14\tORSINO\tEven in a minute. So full of shapes is fancy\n",
    "line-1.1.15\tORSINO\tThat it alone is high fantastical.\n",
    "line-1.1.16\tCURIO\tWill you go hunt, my lord?\n",
    "line-1.1.17\tORSINO\tWhat, Curio?\n",
    "line-1.1.18\tCURIO\tThe hart.\n",
    "line-1.1.19\tORSINO\tWhy, so I do, the noblest that I have.\n",
    "line-1.1.20\tORSINO\tO, when mine eyes did see Olivia first,\n",
    "line-1.1.21\tORSINO\tMethought she purged the air of pestilence.\n",
    "line-1.1.22\tORSINO\tThat instant was I turned into a hart,\n",
    "line-1.1.23\tORSINO\tAnd my desires, like fell and cruel hounds,\n",
    "line-1.1.24\tORSINO\tE’er since pursue me.\n",
    "line-SD 1.1.24.1\tORSINO\tEnter Valentine.\n",
    "line-1.1.25\tORSINO\tHow now, what news from her?\n",
    "line-1.1.26\tVALENTINE\tSo please my lord, I might not be admitted,\n",
    "line-1.1.27\tVALENTINE\tBut from her handmaid do return this answer:\n",
    "line-1.1.28\tVALENTINE\tThe element itself, till seven years’ heat,\n",
    "line-1.1.29\tVALENTINE\tShall not behold her face at ample view,\n",
    "line-1.1.30\tVALENTINE\tBut like a cloistress she will veilèd walk,\n",
    "line-1.1.31\tVALENTINE\tAnd water once a day her chamber round\n",
    "line-1.1.32\tVALENTINE\tWith eye-offending brine—all this to season\n",
    "line-1.1.33\tVALENTINE\tA brother’s dead love, which she would keep fresh\n",
    "line-1.1.34\tVALENTINE\tAnd lasting in her sad remembrance.\n",
    "line-1.1.35\tORSINO\tO, she that hath a heart of that fine frame\n",
    "line-1.1.36\tORSINO\tTo pay this debt of love but to a brother,\n",
    "line-1.1.37\tORSINO\tHow will she love when the rich golden shaft\n",
    "line-1.1.38\tORSINO\tHath killed the flock of all affections else\n",
    "line-1.1.39\tORSINO\tThat live in her; when liver, brain, and heart,\n",
    "line-1.1.40\tORSINO\tThese sovereign thrones, are all supplied, and filled\n",
    "line-1.1.41\tORSINO\tHer sweet perfections with one self king!\n",
    "line-1.1.42\tORSINO\tAway before me to sweet beds of flowers!\n",
    "line-1.1.43\tORSINO\tLove thoughts lie rich when canopied with bowers.\n",
    "line-SD 1.1.43.1\tORSINO\tThey exit.\n",
    "line-SD 1.2.0\tORSINO\tEnter Viola, a Captain, and Sailors.\n",
    "line-1.2.1\tVIOLA\tWhat country, friends, is this?\n",
    "line-1.2.2\tCAPTAIN\tThis is Illyria, lady.\n",
    "line-1.2.3\tVIOLA\tAnd what should I do in Illyria?\n",
    "line-1.2.4\tVIOLA\tMy brother he is in Elysium.\n",
    "line-1.2.5\tVIOLA\tPerchance he is not drowned.—What think you,\n",
    "line-1.2.6\tVIOLA\tsailors?\n",
    "line-1.2.7\tCAPTAIN\tIt is perchance that you yourself were saved.\n",
    "line-1.2.8\tVIOLA\tO, my poor brother! And so perchance may he be.\n",
    "line-1.2.9\tCAPTAIN\tTrue, madam. And to comfort you with chance,\n",
    "line-1.2.10\tCAPTAIN\tAssure yourself, after our ship did split,\n",
    "line-1.2.11\tCAPTAIN\tWhen you and those poor number saved with you\n",
    "line-1.2.12\tCAPTAIN\tHung on our driving boat, I saw your brother,\n",
    "line-1.2.13\tCAPTAIN\tMost provident in peril, bind himself\n",
    "line-1.2.14\tCAPTAIN\t(Courage and hope both teaching him the practice)\n",
    "line-1.2.15\tCAPTAIN\tTo a strong mast that lived upon the sea,\n",
    "line-1.2.16\tCAPTAIN\tWhere, like Arion\n",
    "line-1.2.16\tCAPTAIN\t on the dolphin’s back,\n",
    "line-1.2.17\tCAPTAIN\tI saw him hold acquaintance with the waves\n",
    "line-1.2.18\tCAPTAIN\tSo long as I could see.\n",
    "line-SD 1.2.19\tVIOLA\t, giving\n",
    "line-SD 1.2.19\tVIOLA\t him money\n",
    "line-1.2.19\tVIOLA\tFor saying so, there’s gold.\n",
    "line-1.2.20\tVIOLA\tMine own escape unfoldeth to my hope,\n",
    "line-1.2.21\tVIOLA\tWhereto thy speech serves for authority,\n",
    "line-1.2.22\tVIOLA\tThe like of him. Know’st thou this country?\n",
    "line-1.2.23\tCAPTAIN\tAy, madam, well, for I was bred and born\n",
    "line-1.2.24\tCAPTAIN\tNot three hours’ travel from this very place.\n",
    "line-1.2.25\tVIOLA\tWho governs here?\n",
    "line-1.2.26\tCAPTAIN\tA noble duke, in nature as in name.\n",
    "line-1.2.27\tVIOLA\tWhat is his name?\n",
    "line-1.2.28\tCAPTAIN\tOrsino.\n",
    "line-1.2.29\tVIOLA\tOrsino. I have heard my father name him.\n",
    "line-1.2.30\tVIOLA\tHe was a bachelor then.\n",
    "line-1.2.31\tCAPTAIN\tAnd so is now, or was so very late;\n",
    "line-1.2.32\tCAPTAIN\tFor but a month ago I went from hence,\n",
    "line-1.2.33\tCAPTAIN\tAnd then ’twas fresh in murmur (as, you know,\n",
    "line-1.2.34\tCAPTAIN\tWhat great ones do the less will prattle of)\n",
    "line-1.2.35\tCAPTAIN\tThat he did seek the love of fair Olivia.\n",
    "line-1.2.36\tVIOLA\tWhat’s she?\n",
    "line-1.2.37\tCAPTAIN\tA virtuous maid, the daughter of a count\n",
    "line-1.2.38\tCAPTAIN\tThat died some twelvemonth since, then leaving her\n",
    "line-1.2.39\tCAPTAIN\tIn the protection of his son, her brother,\n",
    "line-1.2.40\tCAPTAIN\tWho shortly also died, for whose dear love,\n",
    "line-1.2.41\tCAPTAIN\tThey say, she hath abjured the sight\n",
    "line-1.2.42\tCAPTAIN\tAnd company of men.\n",
    "line-1.2.43\tVIOLA\tO, that I served that lady,\n",
    "line-1.2.44\tVIOLA\tAnd might not be delivered to the world\n",
    "line-1.2.45\tVIOLA\tTill I had made mine own occasion mellow,\n",
    "line-1.2.46\tVIOLA\tWhat my estate is.\n",
    "line-1.2.47\tCAPTAIN\tThat were hard to compass\n",
    "line-1.2.48\tCAPTAIN\tBecause she will admit no kind of suit,\n",
    "`"
   ]
  },
  {
   "cell_type": "markdown",
   "metadata": {},
   "source": [
    "Request and parse the HTML, and give it a shot!"
   ]
  },
  {
   "cell_type": "code",
   "execution_count": null,
   "metadata": {
    "collapsed": true
   },
   "outputs": [],
   "source": []
  },
  {
   "cell_type": "code",
   "execution_count": null,
   "metadata": {
    "collapsed": true
   },
   "outputs": [],
   "source": []
  }
 ],
 "metadata": {
  "kernelspec": {
   "display_name": "Python 3",
   "language": "python",
   "name": "python3"
  },
  "language_info": {
   "codemirror_mode": {
    "name": "ipython",
    "version": 3
   },
   "file_extension": ".py",
   "mimetype": "text/x-python",
   "name": "python",
   "nbconvert_exporter": "python",
   "pygments_lexer": "ipython3",
   "version": "3.6.5"
  }
 },
 "nbformat": 4,
 "nbformat_minor": 2
}
