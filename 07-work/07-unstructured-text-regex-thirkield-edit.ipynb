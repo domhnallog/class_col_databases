{
 "cells": [
  {
   "cell_type": "markdown",
   "metadata": {},
   "source": [
    "## INVESTIGATING UNSTRUCTURED TEXT\n",
    "As we saw last week, even the sometimes messy and unpredictable Markup language of HTML can give us clues to how data may be structured. But language as a system (as we saw in Borges) also comes with its own structures. Python provides numerous methods for navigating through basic linguistic patterns. Let's begin with repetition itself:"
   ]
  },
  {
   "cell_type": "code",
   "execution_count": 1,
   "metadata": {},
   "outputs": [
    {
     "data": {
      "text/plain": [
       "\"tomorrow, and tomorrow, and tomorrow,\\ncreeps in this petty pace from day to day,\\nto the last syllable of recorded time;\\nand all our yesterdays have lighted fools\\nthe way to dusty death. out, out, brief candle!\\nlife's but a walking shadow, a poor player,\\nthat struts and frets his hour upon the stage,\\nand then is heard no more. it is a tale\\ntold by an idiot, full of sound and fury,\\nsignifying nothing.\""
      ]
     },
     "execution_count": 1,
     "metadata": {},
     "output_type": "execute_result"
    }
   ],
   "source": [
    "speech = '''Tomorrow, and tomorrow, and tomorrow,\n",
    "Creeps in this petty pace from day to day,\n",
    "To the last syllable of recorded time;\n",
    "And all our yesterdays have lighted fools\n",
    "The way to dusty death. Out, out, brief candle!\n",
    "Life's but a walking shadow, a poor player,\n",
    "That struts and frets his hour upon the stage,\n",
    "And then is heard no more. It is a tale\n",
    "Told by an idiot, full of sound and fury,\n",
    "Signifying nothing.'''\n",
    "\n",
    "speech.lower()"
   ]
  },
  {
   "cell_type": "markdown",
   "metadata": {},
   "source": [
    "There're various ways to investigate Macbeth's famous, very short, speech. We begin by searching for the obvious, searching through the whole speech."
   ]
  },
  {
   "cell_type": "code",
   "execution_count": 2,
   "metadata": {},
   "outputs": [
    {
     "data": {
      "text/plain": [
       "True"
      ]
     },
     "execution_count": 2,
     "metadata": {},
     "output_type": "execute_result"
    }
   ],
   "source": [
    "'tomorrow' in speech"
   ]
  },
  {
   "cell_type": "code",
   "execution_count": 3,
   "metadata": {},
   "outputs": [
    {
     "data": {
      "text/plain": [
       "14"
      ]
     },
     "execution_count": 3,
     "metadata": {},
     "output_type": "execute_result"
    }
   ],
   "source": [
    "speech.find('tomorrow')"
   ]
  },
  {
   "cell_type": "code",
   "execution_count": 4,
   "metadata": {},
   "outputs": [
    {
     "data": {
      "text/plain": [
       "'tomorrow'"
      ]
     },
     "execution_count": 4,
     "metadata": {},
     "output_type": "execute_result"
    }
   ],
   "source": [
    "speech[14:14+len('tomorrow')]\n",
    "#speech[14:22]\n"
   ]
  },
  {
   "cell_type": "code",
   "execution_count": 5,
   "metadata": {},
   "outputs": [
    {
     "data": {
      "text/plain": [
       "2"
      ]
     },
     "execution_count": 5,
     "metadata": {},
     "output_type": "execute_result"
    }
   ],
   "source": [
    "speech.count('tomorrow')"
   ]
  },
  {
   "cell_type": "code",
   "execution_count": 6,
   "metadata": {},
   "outputs": [
    {
     "data": {
      "text/plain": [
       "352"
      ]
     },
     "execution_count": 6,
     "metadata": {},
     "output_type": "execute_result"
    }
   ],
   "source": [
    "#speech.lower().count('tomorrow')\n",
    "speech.lower().find('idiot')"
   ]
  },
  {
   "cell_type": "code",
   "execution_count": 7,
   "metadata": {},
   "outputs": [
    {
     "data": {
      "text/plain": [
       "2"
      ]
     },
     "execution_count": 7,
     "metadata": {},
     "output_type": "execute_result"
    }
   ],
   "source": [
    "\n",
    "speech.count('And')"
   ]
  },
  {
   "cell_type": "code",
   "execution_count": 8,
   "metadata": {},
   "outputs": [
    {
     "data": {
      "text/plain": [
       "2"
      ]
     },
     "execution_count": 8,
     "metadata": {},
     "output_type": "execute_result"
    }
   ],
   "source": [
    "speech.count('\\nA')"
   ]
  },
  {
   "cell_type": "code",
   "execution_count": 9,
   "metadata": {},
   "outputs": [
    {
     "data": {
      "text/plain": [
       "402"
      ]
     },
     "execution_count": 9,
     "metadata": {},
     "output_type": "execute_result"
    }
   ],
   "source": [
    "speech.lower().count(' a ')\n",
    "len(speech)"
   ]
  },
  {
   "cell_type": "markdown",
   "metadata": {},
   "source": [
    "Of course, there is already a structure to the speech that we are ignoring--it has lines. Let's get out those lines and put them into a list."
   ]
  },
  {
   "cell_type": "code",
   "execution_count": 10,
   "metadata": {},
   "outputs": [
    {
     "data": {
      "text/plain": [
       "['Tomorrow, and tomorrow, and tomorrow,',\n",
       " 'Creeps in this petty pace from day to day,',\n",
       " 'To the last syllable of recorded time;',\n",
       " 'And all our yesterdays have lighted fools',\n",
       " 'The way to dusty death. Out, out, brief candle!',\n",
       " \"Life's but a walking shadow, a poor player,\",\n",
       " 'That struts and frets his hour upon the stage,',\n",
       " 'And then is heard no more. It is a tale',\n",
       " 'Told by an idiot, full of sound and fury,',\n",
       " 'Signifying nothing.']"
      ]
     },
     "execution_count": 10,
     "metadata": {},
     "output_type": "execute_result"
    }
   ],
   "source": [
    "lines = speech.split('\\n')\n",
    "#lines = tom.splitlines() \n",
    "lines"
   ]
  },
  {
   "cell_type": "code",
   "execution_count": 11,
   "metadata": {},
   "outputs": [
    {
     "data": {
      "text/plain": [
       "'Tomorrow, and tomorrow, and tomorrow,'"
      ]
     },
     "execution_count": 11,
     "metadata": {},
     "output_type": "execute_result"
    }
   ],
   "source": [
    "firstline = lines[0]\n",
    "firstline"
   ]
  },
  {
   "cell_type": "markdown",
   "metadata": {},
   "source": [
    "Python has a handful of built-in ways to search a line. Here are just a few."
   ]
  },
  {
   "cell_type": "code",
   "execution_count": 12,
   "metadata": {},
   "outputs": [
    {
     "data": {
      "text/plain": [
       "'yesterday, and yesterday, and tomorrow,'"
      ]
     },
     "execution_count": 12,
     "metadata": {},
     "output_type": "execute_result"
    }
   ],
   "source": [
    "yest = firstline.lower().replace('tomorrow','yesterday',2)\n",
    "yest"
   ]
  },
  {
   "cell_type": "code",
   "execution_count": 13,
   "metadata": {},
   "outputs": [
    {
     "data": {
      "text/plain": [
       "True"
      ]
     },
     "execution_count": 13,
     "metadata": {},
     "output_type": "execute_result"
    }
   ],
   "source": [
    "firstline.lower().startswith('tomorrow')"
   ]
  },
  {
   "cell_type": "code",
   "execution_count": 14,
   "metadata": {},
   "outputs": [
    {
     "data": {
      "text/plain": [
       "True"
      ]
     },
     "execution_count": 14,
     "metadata": {},
     "output_type": "execute_result"
    }
   ],
   "source": [
    "firstline.endswith('tomorrow,')"
   ]
  },
  {
   "cell_type": "markdown",
   "metadata": {},
   "source": [
    "## List comprehensions\n",
    "What if we want to search through every line. The obvious way is using a `for` loop."
   ]
  },
  {
   "cell_type": "code",
   "execution_count": 15,
   "metadata": {},
   "outputs": [
    {
     "name": "stdout",
     "output_type": "stream",
     "text": [
      "And all our yesterdays have lighted fools\n",
      "And then is heard no more. It is a tale\n"
     ]
    }
   ],
   "source": [
    "for line in lines:\n",
    "    if line.startswith('And'):\n",
    "        print(line)"
   ]
  },
  {
   "cell_type": "markdown",
   "metadata": {},
   "source": [
    "That is a very simple loop, so simple that Python has a solution for a looping through a list using a one-line statement, called a **list comprehension**"
   ]
  },
  {
   "cell_type": "code",
   "execution_count": 16,
   "metadata": {},
   "outputs": [
    {
     "data": {
      "text/plain": [
       "['Tomorrow, and tomorrow, and tomorrow,',\n",
       " 'To the last syllable of recorded time;',\n",
       " 'The way to dusty death. Out, out, brief candle!',\n",
       " 'That struts and frets his hour upon the stage,',\n",
       " 'Told by an idiot, full of sound and fury,']"
      ]
     },
     "execution_count": 16,
     "metadata": {},
     "output_type": "execute_result"
    }
   ],
   "source": [
    "[line for line in lines if line.startswith('T')]\n"
   ]
  },
  {
   "cell_type": "markdown",
   "metadata": {},
   "source": [
    "Remember this, when we start using more robust ways of searching line by line (sentence by sentence, etc) these will come in handy. But before we jump to those special searching methods, let's have a little detour on sorting."
   ]
  },
  {
   "cell_type": "markdown",
   "metadata": {},
   "source": [
    "## Sorting!\n",
    "Say we want to investigate the lines in the speech, and order them from longest line to shortest line. Well we know how to get the length of each line using loop, but how can we measure them to reorder our list?"
   ]
  },
  {
   "cell_type": "code",
   "execution_count": 17,
   "metadata": {},
   "outputs": [
    {
     "name": "stdout",
     "output_type": "stream",
     "text": [
      "37\n",
      "42\n",
      "38\n",
      "41\n",
      "47\n",
      "43\n",
      "46\n",
      "39\n",
      "41\n",
      "19\n"
     ]
    }
   ],
   "source": [
    "for line in lines:\n",
    "    print(len(line))"
   ]
  },
  {
   "cell_type": "markdown",
   "metadata": {},
   "source": [
    "We could write a function that pairs these numbers with each line, and then sorts through everything--but sort functions are notoriously challenging to write. And Python has a built in sorting function."
   ]
  },
  {
   "cell_type": "code",
   "execution_count": 18,
   "metadata": {},
   "outputs": [
    {
     "data": {
      "text/plain": [
       "['And all our yesterdays have lighted fools',\n",
       " 'And then is heard no more. It is a tale',\n",
       " 'Creeps in this petty pace from day to day,',\n",
       " \"Life's but a walking shadow, a poor player,\",\n",
       " 'Signifying nothing.',\n",
       " 'That struts and frets his hour upon the stage,',\n",
       " 'The way to dusty death. Out, out, brief candle!',\n",
       " 'To the last syllable of recorded time;',\n",
       " 'Told by an idiot, full of sound and fury,',\n",
       " 'Tomorrow, and tomorrow, and tomorrow,']"
      ]
     },
     "execution_count": 18,
     "metadata": {},
     "output_type": "execute_result"
    }
   ],
   "source": [
    "sortlines = lines.copy()\n",
    "sortlines.sort()\n",
    "sortlines"
   ]
  },
  {
   "cell_type": "markdown",
   "metadata": {},
   "source": [
    "But not only that, Python has a built in mini-function generator called `lambda` that you can nest inside at sorting function."
   ]
  },
  {
   "cell_type": "code",
   "execution_count": 19,
   "metadata": {},
   "outputs": [
    {
     "data": {
      "text/plain": [
       "['The way to dusty death. Out, out, brief candle!',\n",
       " 'That struts and frets his hour upon the stage,',\n",
       " \"Life's but a walking shadow, a poor player,\",\n",
       " 'Creeps in this petty pace from day to day,',\n",
       " 'And all our yesterdays have lighted fools',\n",
       " 'Told by an idiot, full of sound and fury,',\n",
       " 'And then is heard no more. It is a tale',\n",
       " 'To the last syllable of recorded time;',\n",
       " 'Tomorrow, and tomorrow, and tomorrow,',\n",
       " 'Signifying nothing.']"
      ]
     },
     "execution_count": 19,
     "metadata": {},
     "output_type": "execute_result"
    }
   ],
   "source": [
    "sortlines = lines.copy()\n",
    "sortlines.sort(key=lambda x: len(x), reverse=True)\n",
    "# what is this one down here doing?\n",
    "#sortlines.sort(key=lambda x: x.split()[-1], reverse=True)\n",
    "sortlines"
   ]
  },
  {
   "cell_type": "markdown",
   "metadata": {},
   "source": [
    "## Regular Expressions\n",
    "The more you work with unstructured text, the greater desire you will have for the power that regular expressions give you. Regular expressions are a mini-language to themselves (often sharing similarities across different programming languages). They allow you to search for a variety of patterns within text. The most obvious patterns you might find are telephone numbers, ZIP Codes, email addresses (social security numbers and credit card numbers for the more malicious)--and many regular expressions have been written to capture these with varying levels accuracy. Today, however, our focus will be on exploring text.\n",
    "\n",
    "First import the built-in regular expression library `re`"
   ]
  },
  {
   "cell_type": "code",
   "execution_count": 20,
   "metadata": {},
   "outputs": [],
   "source": [
    "import re"
   ]
  },
  {
   "cell_type": "markdown",
   "metadata": {},
   "source": [
    "There are five main regular expression functions that we will work with:\n",
    "\n",
    "**match()** & **search()**: these methods tell you whether or not they found a match, and where that match was located--although match() only searches at the very beginning of the line--so it is rarely useful.\n",
    "\n",
    "**split()** & **sub()**: these two work just like split() & replace(), but they search for patterns and return a list or a substitute string respectively.\n",
    "\n",
    "**findall()**: just as the name sounds, this method returns a list of matching patterns that were found throughout the entire string."
   ]
  },
  {
   "cell_type": "code",
   "execution_count": 21,
   "metadata": {},
   "outputs": [
    {
     "data": {
      "text/plain": [
       "8"
      ]
     },
     "execution_count": 21,
     "metadata": {},
     "output_type": "execute_result"
    }
   ],
   "source": [
    "\n",
    "#found = re.match(\"morrow\",firstline,re.IGNORECASE)\n",
    "#found\n",
    "found = re.search(\"morrow\",firstline,re.IGNORECASE)\n",
    "#found.group()\n",
    "found.end()\n"
   ]
  },
  {
   "cell_type": "code",
   "execution_count": 22,
   "metadata": {},
   "outputs": [
    {
     "name": "stdout",
     "output_type": "stream",
     "text": [
      "['Tomorrow, ', ' tomorrow, ', ' tomorrow,'] yesterday, and yesterday, and yesterday,\n"
     ]
    }
   ],
   "source": [
    "newlist = re.split(\"and\",firstline,flags=re.IGNORECASE)\n",
    "newstring = re.sub(\"tomorrow\",\"yesterday\",firstline,flags=re.IGNORECASE)\n",
    "print(newlist,newstring)"
   ]
  },
  {
   "cell_type": "code",
   "execution_count": 23,
   "metadata": {},
   "outputs": [
    {
     "data": {
      "text/plain": [
       "['To', 'to', 'to']"
      ]
     },
     "execution_count": 23,
     "metadata": {},
     "output_type": "execute_result"
    }
   ],
   "source": [
    "words = re.findall(\"to\",firstline,re.IGNORECASE)\n",
    "words"
   ]
  },
  {
   "cell_type": "markdown",
   "metadata": {},
   "source": [
    "## Special characters\n",
    "While the search methods above are more useful than what's built into Python, it is the pattern seeking commands that--once you get used to them--do the most powerful work.\n",
    "\n",
    "Here's a list  of the most common pattern seeking characters:\n",
    "\n",
    "| special character | what it does |\n",
    "|--------|---------|\n",
    "| `.` | Match any character except newline |\n",
    "| `^` | match the beginning of string |\n",
    "| `$` | match the end of string, including `\\n` |\n",
    "| `*` | match 0 or more repetitions |\n",
    "| `+` | match 1 or more repetitions  |\n",
    "| `?` | match 0 or 1 repetitions  |\n",
    "| `{m}` | m specifies the number of repetitions  |\n",
    "| `{m,n}` | m and n specifies a range of repetitions  |\n",
    "| `{m,}` | m specifies the minimum number of repetitions  |\n"
   ]
  },
  {
   "cell_type": "code",
   "execution_count": 24,
   "metadata": {},
   "outputs": [
    {
     "data": {
      "text/plain": [
       "<re.Match object; span=(28, 37), match='tomorrow,'>"
      ]
     },
     "execution_count": 24,
     "metadata": {},
     "output_type": "execute_result"
    }
   ],
   "source": [
    "all_ll = re.findall(\"..ll\",speech)\n",
    "re.search(\"^Tomorrow\",firstline)\n",
    "re.search(\"tomorrow,$\",firstline)\n",
    "#all_ll\n"
   ]
  },
  {
   "cell_type": "code",
   "execution_count": 25,
   "metadata": {},
   "outputs": [
    {
     "data": {
      "text/plain": [
       "['And all our yesterdays have lighted fools',\n",
       " 'And then is heard no more. It is a tale']"
      ]
     },
     "execution_count": 25,
     "metadata": {},
     "output_type": "execute_result"
    }
   ],
   "source": [
    "#a list comprehension again!\n",
    "#Note that match() would produce the same thing\n",
    "[line for line in lines if re.search(\"^And\",line)]"
   ]
  },
  {
   "cell_type": "code",
   "execution_count": 26,
   "metadata": {},
   "outputs": [
    {
     "data": {
      "text/plain": [
       "['Tomorrow, and tomorrow, and tomorrow,',\n",
       " 'Creeps in this petty pace from day to day,',\n",
       " \"Life's but a walking shadow, a poor player,\",\n",
       " 'That struts and frets his hour upon the stage,',\n",
       " 'Told by an idiot, full of sound and fury,']"
      ]
     },
     "execution_count": 26,
     "metadata": {},
     "output_type": "execute_result"
    }
   ],
   "source": [
    "[line for line in lines if re.search(\",$\",line)]"
   ]
  },
  {
   "cell_type": "code",
   "execution_count": 27,
   "metadata": {},
   "outputs": [
    {
     "data": {
      "text/plain": [
       "['this', 'the l', 'th. ', 'the s', 'then ', 'thin']"
      ]
     },
     "execution_count": 27,
     "metadata": {},
     "output_type": "execute_result"
    }
   ],
   "source": [
    "th_plus = re.findall(\"the*..\",speech)\n",
    "th_plus"
   ]
  },
  {
   "cell_type": "code",
   "execution_count": 28,
   "metadata": {},
   "outputs": [
    {
     "data": {
      "text/plain": [
       "['Jon', 'John']"
      ]
     },
     "execution_count": 28,
     "metadata": {},
     "output_type": "execute_result"
    }
   ],
   "source": [
    "names = \"Jon, John, Jonn, Johhhn, Joan\"\n",
    "find_names = re.findall(r\"Joh?n\\b\",names)\n",
    "find_names"
   ]
  },
  {
   "cell_type": "code",
   "execution_count": 29,
   "metadata": {},
   "outputs": [
    {
     "data": {
      "text/plain": [
       "['e las',\n",
       " 'syllab',\n",
       " ' all o',\n",
       " 'e lig',\n",
       " 'ndle!',\n",
       " 'walki',\n",
       " ' play',\n",
       " 'Told ',\n",
       " 'full o']"
      ]
     },
     "execution_count": 29,
     "metadata": {},
     "output_type": "execute_result"
    }
   ],
   "source": [
    "# see what happens if you replace the + with a *\n",
    "l_plus = re.findall(\"..l+..\",speech)\n",
    "l_plus"
   ]
  },
  {
   "cell_type": "code",
   "execution_count": 30,
   "metadata": {},
   "outputs": [
    {
     "data": {
      "text/plain": [
       "['To',\n",
       " 'mor',\n",
       " 'ro',\n",
       " 'to',\n",
       " 'mor',\n",
       " 'ro',\n",
       " 'to',\n",
       " 'mor',\n",
       " 'ro',\n",
       " 'ro',\n",
       " 'to',\n",
       " 'To',\n",
       " ' o',\n",
       " 'cor',\n",
       " ' o',\n",
       " 'fo',\n",
       " 'to',\n",
       " ' o',\n",
       " 'do',\n",
       " 'po',\n",
       " 'ho',\n",
       " 'po',\n",
       " 'no',\n",
       " 'mor',\n",
       " 'To',\n",
       " 'io',\n",
       " ' o',\n",
       " 'so',\n",
       " 'no']"
      ]
     },
     "execution_count": 30,
     "metadata": {},
     "output_type": "execute_result"
    }
   ],
   "source": [
    "l_plus = re.findall(\".or?\",speech)\n",
    "l_plus"
   ]
  },
  {
   "cell_type": "code",
   "execution_count": 31,
   "metadata": {},
   "outputs": [
    {
     "data": {
      "text/plain": [
       "[' fools', ' poor ']"
      ]
     },
     "execution_count": 31,
     "metadata": {},
     "output_type": "execute_result"
    }
   ],
   "source": [
    "o_2 = re.findall(\"..o{2}..\",speech)\n",
    "o_2"
   ]
  },
  {
   "cell_type": "markdown",
   "metadata": {},
   "source": [
    "## Sets and Groups\n",
    "**Sets**, which include `[]` in shortcuts like `\\w`, allow you to search for certain types of characters. **Groups**, which are demarcated by `()` allow you to specify important sub-patterns that you can access individually.\n",
    "\n",
    "| enclosures | what it does |\n",
    "|--------|---------|\n",
    "| `[]` | A defined set of characters to search for |\n",
    "| `()` | A group of characters to search for, can be accessed individually in the results. |\n",
    "\n",
    "\n",
    "| Examples of sets | what it does |\n",
    "|--------|---------|\n",
    "| `[aeiou]` | Find any vowel |\n",
    "| `[Tt]` | Find a lowercase or uppercase t |\n",
    "| `[0-9]` | Find any number, there is a shortcut for this |\n",
    "| `[^0-9]` | Find anything that's not number, there is a shortcut for this |\n",
    "| `[13579]` | Find any odd numer |\n",
    "| `[A-Za-z]` | Find any letter, there is a shortcut for this too |\n",
    "| `[+.*]` | Find those actual characters, special characters are canceled in sets (not including shortcuts: see below) |\n",
    "\n",
    "\n",
    "| Shortcut | what it does |\n",
    "|--------|---------|\n",
    "| `\\b` | Word boundary: spaces, commas, end of line, anything that comes at the beginning or end of a word |\n",
    "| `\\B` | Not a word-boundary |\n",
    "| `\\d` | numbers [0-9] |\n",
    "| `\\D` | not numbers |\n",
    "| `\\s` | whitespace characters: space, tab... |\n",
    "| `\\S` | not space |\n",
    "| `\\w` | letters |\n",
    "| `\\W` | not letters |\n"
   ]
  },
  {
   "cell_type": "code",
   "execution_count": null,
   "metadata": {},
   "outputs": [],
   "source": []
  },
  {
   "cell_type": "code",
   "execution_count": 32,
   "metadata": {},
   "outputs": [
    {
     "data": {
      "text/plain": [
       "['Tomorrow',\n",
       " 'tomorrow',\n",
       " 'tomorrow',\n",
       " 'this',\n",
       " 'to',\n",
       " 'To',\n",
       " 'the',\n",
       " 'of',\n",
       " 'time',\n",
       " 'our',\n",
       " 'The',\n",
       " 'to',\n",
       " 'Out',\n",
       " 'out',\n",
       " 'That',\n",
       " 'the',\n",
       " 'then',\n",
       " 'tale',\n",
       " 'Told',\n",
       " 'of']"
      ]
     },
     "execution_count": 32,
     "metadata": {},
     "output_type": "execute_result"
    }
   ],
   "source": [
    "words = re.findall(r\"\\b[TtOo]\\w+\",speech)\n",
    "words"
   ]
  },
  {
   "cell_type": "code",
   "execution_count": 33,
   "metadata": {},
   "outputs": [
    {
     "data": {
      "text/plain": [
       "['Tomorrow',\n",
       " 'tomorrow',\n",
       " 'tomorrow',\n",
       " 'this',\n",
       " 'tty',\n",
       " 'to',\n",
       " 'To',\n",
       " 'the',\n",
       " 'time',\n",
       " 'terdays',\n",
       " 'ted',\n",
       " 'The',\n",
       " 'to',\n",
       " 'ty',\n",
       " 'th',\n",
       " 'That',\n",
       " 'truts',\n",
       " 'ts',\n",
       " 'the',\n",
       " 'tage',\n",
       " 'then',\n",
       " 'tale',\n",
       " 'Told',\n",
       " 'thing']"
      ]
     },
     "execution_count": 33,
     "metadata": {},
     "output_type": "execute_result"
    }
   ],
   "source": [
    "words = re.findall(r\"[tT]\\w+\",speech)\n",
    "words"
   ]
  },
  {
   "cell_type": "markdown",
   "metadata": {},
   "source": [
    "Looking for phrases"
   ]
  },
  {
   "cell_type": "code",
   "execution_count": 48,
   "metadata": {},
   "outputs": [
    {
     "data": {
      "text/plain": [
       "[('in', 'this', 'petty'),\n",
       " ('to', 'day', 'To'),\n",
       " ('of', 'recorded', 'time'),\n",
       " ('to', 'dusty', 'death'),\n",
       " ('is', 'heard', 'no'),\n",
       " ('It', 'is', 'a'),\n",
       " ('by', 'an', 'idiot'),\n",
       " ('of', 'sound', 'and')]"
      ]
     },
     "execution_count": 48,
     "metadata": {},
     "output_type": "execute_result"
    }
   ],
   "source": [
    "# three-word phrases that begin with two-letter words\n",
    "phrases = re.findall(r\"\\b\\w{2}\\W+\\w+\\W+\\w+\",speech)\n",
    "#overlapping\n",
    "# phrases = re.findall(r\"(?=(\\b\\w{2}\\W+\\w+\\W+\\w+))\",speech) \n",
    "#groups\n",
    "# phrases = re.findall(r\"(\\b\\w{2})\\W+(\\w+)\\W+(\\w+)\",speech)\n",
    "# phrases = re.findall(r\"(?=(\\b\\w{2})\\W+(\\w+)\\W+(\\w+))\",speech)\n",
    "\n",
    "phrases"
   ]
  },
  {
   "cell_type": "markdown",
   "metadata": {},
   "source": [
    "Searching a longer poem"
   ]
  },
  {
   "cell_type": "code",
   "execution_count": 46,
   "metadata": {},
   "outputs": [
    {
     "data": {
      "text/plain": [
       "[('in', 'this', 'petty'),\n",
       " ('to', 'day', 'To'),\n",
       " ('To', 'the', 'last'),\n",
       " ('of', 'recorded', 'time'),\n",
       " ('to', 'dusty', 'death'),\n",
       " ('is', 'heard', 'no'),\n",
       " ('no', 'more', 'It'),\n",
       " ('It', 'is', 'a'),\n",
       " ('is', 'a', 'tale'),\n",
       " ('by', 'an', 'idiot'),\n",
       " ('an', 'idiot', 'full'),\n",
       " ('of', 'sound', 'and')]"
      ]
     },
     "execution_count": 46,
     "metadata": {},
     "output_type": "execute_result"
    }
   ],
   "source": [
    "# three-word phrases that begin with two-letter words\n",
    "# phrases2 = re.findall(r\"\\b\\w{2}\\W+\\w+\\W+\\w+\",speech)\n",
    "#overlapping\n",
    "phrases2 = re.findall(r\"(?=(\\b\\w{2}\\W+\\w+\\W+\\w+))\",speech) \n",
    "#groups\n",
    "# phrases2 = re.findall(r\"(\\b\\w{2})\\W+(\\w+)\\W+(\\w+)\",speech)\n",
    "# phrases2 = re.findall(r\"(?=(\\b\\w{2})\\W+(\\w+)\\W+(\\w+))\",speech)\n",
    "\n",
    "phrases2"
   ]
  },
  {
   "cell_type": "code",
   "execution_count": null,
   "metadata": {},
   "outputs": [],
   "source": [
    "f = open('/Users/Jon/Documents/Columbia-2018/pythonNotebooks/weekFour/wasteland.txt', 'r')\n",
    "wasteland = f.read()"
   ]
  },
  {
   "cell_type": "code",
   "execution_count": null,
   "metadata": {},
   "outputs": [],
   "source": [
    "poemlines = wasteland.split('\\n')"
   ]
  },
  {
   "cell_type": "code",
   "execution_count": null,
   "metadata": {},
   "outputs": [],
   "source": [
    "\n",
    "[line for line in poemlines if re.search(\"win.\", line)]\n"
   ]
  },
  {
   "cell_type": "markdown",
   "metadata": {},
   "source": [
    "Searching a whole play"
   ]
  },
  {
   "cell_type": "code",
   "execution_count": null,
   "metadata": {},
   "outputs": [],
   "source": [
    "f = open('hamlet.txt', 'r')\n",
    "play = f.read()\n"
   ]
  },
  {
   "cell_type": "code",
   "execution_count": null,
   "metadata": {},
   "outputs": [],
   "source": [
    "type(play)\n",
    "play"
   ]
  },
  {
   "cell_type": "code",
   "execution_count": null,
   "metadata": {},
   "outputs": [],
   "source": [
    "play[:500]"
   ]
  },
  {
   "cell_type": "code",
   "execution_count": null,
   "metadata": {},
   "outputs": [],
   "source": [
    "all_chars = re.findall(r\"[\\n]([A-Z]+)[\\n]\",play)\n",
    "# all_chars = re.findall(r\"[\\n](ACT [IV]+)[\\n]\",play)\n",
    "# all_chars = re.findall(r\"[\\n](ACT [IV]+[\\n]+SCENE [IVX]+.)\",play)\n",
    "# all_chars = re.findall(r\"(SCENE [IVX]+)\",play)\n",
    "# all_chars = re.findall(r\"(ACT [IV]+)*[\\n]+(SCENE [IVX]+)\",play)\n",
    "# all_chars = re.findall(r\"(ACT [IV]+)*[\\n]+(SCENE [IVX]+)(.*)\",play)\n",
    "# acts = re.split(r\"(ACT [IV]+)*[\\n]+(SCENE [IVX]+)\",play)\n",
    "all_chars\n",
    "# acts[8]"
   ]
  },
  {
   "cell_type": "code",
   "execution_count": null,
   "metadata": {},
   "outputs": [],
   "source": []
  },
  {
   "cell_type": "code",
   "execution_count": null,
   "metadata": {},
   "outputs": [],
   "source": [
    "house_reps = '''1st Zeldin, Lee R 1517 LHOB (202) 225-3826 Financial Services Foreign Affairs \n",
    "2nd King, Pete R 339 CHOB (202) 225-7896  Financial Services Homeland Security Intelligence \n",
    "3rd Suozzi, Thomas D 226 CHOB (202) 225-3335  Armed Services Foreign Affairs \n",
    "4th Rice, Kathleen D 1508 LHOB (202) 225-5516  Homeland Security Veterans' Affairs \n",
    "5th Meeks, Gregory W. D 2234 RHOB (202) 225-3461  Financial Services Foreign Affairs \n",
    "6th Meng, Grace D 1317 LHOB (202) 225-2601  Appropriations \n",
    "7th Velázquez, Nydia M. D 2302 RHOB (202) 225-2361  Financial Services Natural Resources Small Business \n",
    "8th Jeffries, Hakeem D 1607 LHOB (202) 225-5936  Budget Judiciary \n",
    "9th Clarke, Yvette D. D 2058 RHOB (202) 225-6231  Energy and Commerce Small Business Ethics \n",
    "10th Nadler, Jerrold D 2109 RHOB (202) 225-5635  Judiciary \n",
    "11th Donovan, Daniel R 1541 LHOB (202) 225-3371  Foreign Affairs Homeland Security \n",
    "12th Maloney, Carolyn D 2308 RHOB (202) 225-7944  Financial Services Oversight and Government Reform \n",
    "13th Espaillat, Adriano D 1630 LHOB (202) 225-4365  Education and the Workforce Foreign Affairs Small Business \n",
    "14th Crowley, Joseph D 1035 LHOB (202) 225-3965  Ways and Means \n",
    "15th Serrano, José E. D 2354 RHOB (202) 225-4361  Appropriations \n",
    "16th Engel, Eliot D 2462 RHOB (202) 225-2464  Foreign Affairs Energy and Commerce \n",
    "17th Lowey, Nita D 2365 RHOB (202) 225-6506  Appropriations Joint Select Committee on Budget and APPNs Process Reform \n",
    "18th Maloney, Sean Patrick D 1027 LHOB (202) 225-5441  Agriculture Transportation and Infrastructure \n",
    "19th Faso, John R 1616 LHOB (202) 225-5614  Agriculture Budget Transportation and Infrastructure \n",
    "20th Tonko, Paul D. D 2463 RHOB (202) 225-5076  Energy and Commerce Science, Space, and Technology \n",
    "21st Stefanik, Elise R 318 CHOB (202) 225-4611  Armed Services Education and the Workforce Intelligence \n",
    "22nd Tenney, Claudia R 512 CHOB (202) 225-3665  Financial Services \n",
    "23rd Reed, Tom R 2437 RHOB (202) 225-3161  Ways and Means \n",
    "24th Katko, John R 1620 LHOB (202) 225-3701  Homeland Security Transportation and Infrastructure \n",
    "25th Slaughter, Louise McIntosh - Vacancy D 2469 RHOB (202) 225-3615  \n",
    "26th Higgins, Brian D 2459 RHOB (202) 225-3306  Budget Ways and Means \n",
    "27th Collins, Chris R 1117 LHOB (202) 225-5265  Energy and Commerce\n",
    "'''"
   ]
  },
  {
   "cell_type": "code",
   "execution_count": null,
   "metadata": {},
   "outputs": [],
   "source": [
    "house_list = house_reps.splitlines()\n",
    "house_list"
   ]
  },
  {
   "cell_type": "code",
   "execution_count": null,
   "metadata": {},
   "outputs": [],
   "source": [
    "dists = re.findall(r\"Jos\\w+\",house_reps) \n",
    "dists"
   ]
  },
  {
   "cell_type": "code",
   "execution_count": null,
   "metadata": {},
   "outputs": [],
   "source": []
  },
  {
   "cell_type": "code",
   "execution_count": null,
   "metadata": {},
   "outputs": [],
   "source": []
  }
 ],
 "metadata": {
  "kernelspec": {
   "display_name": "Python 3",
   "language": "python",
   "name": "python3"
  },
  "language_info": {
   "codemirror_mode": {
    "name": "ipython",
    "version": 3
   },
   "file_extension": ".py",
   "mimetype": "text/x-python",
   "name": "python",
   "nbconvert_exporter": "python",
   "pygments_lexer": "ipython3",
   "version": "3.7.3"
  }
 },
 "nbformat": 4,
 "nbformat_minor": 2
}
