{
 "cells": [
  {
   "cell_type": "markdown",
   "metadata": {},
   "source": [
    "## homework 4.2: investigating lists and dictionaries using functions\n",
    "\n",
    "In this assignment I will ask you to pick five relatively short texts (poems, paragraphs, short essays, song lyrics, whatever interests you). The main thing is to make sure that each text is around 10 - 20 lines or sentences long. Below, I have selected five poems by Wallace Stevens. In each cell I have made a variable that contains each poem, and then I pass that poem through a function called `text_to_dict` that makes a dictionary for each poem. The dictionary contains the title of the poem, the full text as one string, and a list that contains each line of the poem. The function will also make lists of sentences instead of lines if you want to investigate a prose text (sentence by sentence) instead of a poem (line by line).\n",
    "\n",
    "There are two parts of this assignment. \n",
    "\n",
    "**Part 1**, which should be easy, is to replace the poems with texts of your own choice--and choose to split them by lines or sentences. \n",
    "\n",
    "**Part 2** is to write functions that investigate your texts. If you want to focus on the functions first, you can go straight to Part 2 and use the poems I have chosen. You can then go back and enter your own texts--your functions should work no matter what text you've chosen.\n"
   ]
  },
  {
   "cell_type": "code",
   "execution_count": 1,
   "metadata": {},
   "outputs": [],
   "source": [
    "#Run this cell toImport regular expressions\n",
    "#And to initialize the all texts list that will contain all of your dictionaries of text\n",
    "import re\n",
    "all_texts = []"
   ]
  },
  {
   "cell_type": "markdown",
   "metadata": {},
   "source": [
    "** understanding the text_to_dict function**\n",
    "\n",
    "You don't have to completely understand this function to use it, but you do need to understand its parameters. It takes three parameters:\n",
    "* `title` is a string you need to write inside function's parameters\n",
    "* `text` is the variable that holds the entire text\n",
    "* `poem` True/False parameter --if it is true it will split your text by line (`\\n`) \n",
    " \tIf it is false it will split your text by sentence ('[.?!])\n",
    "\n",
    "If you look at the function you will see that it builds a dictionary with the following fields:\n",
    "* `title` is the title of the text\n",
    "* `text_as_string` is the full text as a string\n",
    "* `lines` is a list of lines or sentences\n",
    "\n",
    "It returns a dictionary with those fields."
   ]
  },
  {
   "cell_type": "code",
   "execution_count": 2,
   "metadata": {},
   "outputs": [],
   "source": [
    "def text_to_dict(title,text,poem):\n",
    "    dict_of_this_text = {}\n",
    "    dict_of_this_text['title'] = title\n",
    "    dict_of_this_text['text_as_string'] = text\n",
    "    if poem:\n",
    "        text_to_list = text.strip().split('\\n')\n",
    "    else:\n",
    "        text_to_list = re.split(r\"[.?!]\",text)\n",
    "    dict_of_this_text['lines'] = text_to_list\n",
    "    return dict_of_this_text\n"
   ]
  },
  {
   "cell_type": "code",
   "execution_count": 3,
   "metadata": {},
   "outputs": [],
   "source": [
    "#please note: the regular expression I am using to split by sentences\n",
    "#is highly flawed, it is actually impossible to write regular expression \n",
    "#that splits 100% perfectly by sentence, but feel free to use this."
   ]
  },
  {
   "cell_type": "markdown",
   "metadata": {},
   "source": [
    "## Part One\n",
    "\n",
    "The next five cells are exactly the same. They define five different texts, and then they pass each text through the `text_to_dict` function. And then they add the resulting dictionary to the all_texts list. \n",
    "\n",
    "In the five cells below enter your five selected texts.\n",
    "\n",
    "**You should do no coding at any point** until the very last cell before part two."
   ]
  },
  {
   "cell_type": "code",
   "execution_count": 4,
   "metadata": {},
   "outputs": [],
   "source": [
    "#To change the text, just put a new text between the quotation mark\n",
    "text0 = '''\n",
    "When you were young you were the king of carrot flowers\n",
    "And how you built a tower tumbling through the trees\n",
    "In holy rattlesnakes that fell all around your feet\n",
    "\n",
    "And your mom would stick a fork right into daddy's shoulder\n",
    "And dad would throw the garbage all across the floor\n",
    "As we would lay and learn what each other's bodies were for\n",
    "\n",
    "And this is the room one afternoon I knew I could love you\n",
    "And from above you how I sank into your soul\n",
    "Into that secret place where no one dares to go\n",
    "\n",
    "And your mom would drink until she was no longer speaking\n",
    "And dad would dream of all the different ways to die\n",
    "Each one a little more than he could dare to try\n",
    "'''\n",
    "#Remember: you need to type the title into the first parameter\n",
    "#If you want to split by line choose True for the third parameter\n",
    "#If you want to split by sentence, choose False\n",
    "transform_it = text_to_dict(\"King Of Carrot Flowers Part 1\",text0,True)\n",
    "all_texts.append(transform_it)"
   ]
  },
  {
   "cell_type": "code",
   "execution_count": 5,
   "metadata": {},
   "outputs": [],
   "source": [
    "text1 = '''\n",
    "I love you Jesus Christ\n",
    "Jesus Christ, I love you, yes I do\n",
    "I love you Jesus Christ\n",
    "Jesus Christ, I love you, yes I do\n",
    "\n",
    "And on the lazy days \n",
    "The dogs dissolve and drain away\n",
    "The world it goes and always waits\n",
    "The day we are awaiting\n",
    "\n",
    "Up and over, we go through the wave and undertow\n",
    "I will float until I learn how to swim\n",
    "Inside my mother in a garbage bin\n",
    "Until I find myself again, again\n",
    "\n",
    "Up and over we go with mouths open wide and spitting still\n",
    "I will spit until I learn how to speak\n",
    "Up through the doorway as the sideboards creak\n",
    "With them ever proclaiming me, me\n",
    "\n",
    "Up and over we go, the weight it sits on down and I don't know\n",
    "I will shout until they know what I mean\n",
    "I mean the marriage of a dead dog sing\n",
    "And a synthetic flying machine, machine\n",
    "'''\n",
    "transform_it = text_to_dict(\"King Of Carrot Flowers Parts 2-3\",text1,True)\n",
    "all_texts.append(transform_it)"
   ]
  },
  {
   "cell_type": "code",
   "execution_count": 6,
   "metadata": {},
   "outputs": [],
   "source": [
    "text2 = '''\n",
    "Sweet communist, the communist daughter\n",
    "Standing on the sea-weed water\n",
    "Semen stains the mountaintops\n",
    "Semen stains the mountaintops\n",
    "\n",
    "With coca leaves along the border\n",
    "Sweetness swings from every corner\n",
    "Cars careening from the clouds\n",
    "The bridges burst and twist around\n",
    "\n",
    "And wanting something warm and moving\n",
    "Bend towards herself, the soothing\n",
    "Proves that she must still exist\n",
    "She moves herself about her fist\n",
    "\n",
    "Sweet communist, the communist daughter\n",
    "Standing on the sea-weed water\n",
    "Semen stains the mountaintops\n",
    "Semen stains the mountaintops\n",
    "'''\n",
    "transform_it = text_to_dict(\"Communist Daughter\",text2,True)\n",
    "all_texts.append(transform_it)"
   ]
  },
  {
   "cell_type": "code",
   "execution_count": 7,
   "metadata": {},
   "outputs": [],
   "source": [
    "text3 = '''\n",
    "Ghost, ghost, I know you were within me, feel you as you fly\n",
    "In thunder clouds above the city, into one that I loved\n",
    "With all that was left within me 'till we tore in two\n",
    "Now wings and rings and there's so many waiting here for you\n",
    "\n",
    "And she was born in a bottle rocket, 1929\n",
    "With wings that ringed around a socket right between her spine\n",
    "All drenched in milk in holy water pouring from the sky\n",
    "I know that she will live forever, she won't ever die\n",
    "\n",
    "She goes\n",
    "And now she knows she'll never be afraid\n",
    "To watch the morning paper blow\n",
    "Into a hole where no one can escape\n",
    "\n",
    "And one day in New York City, baby, a girl fell from the sky\n",
    "From the top of a burning apartment building fourteen stories high\n",
    "And when her spirit left her body, how it split the sun\n",
    "I know that she will live forever, all goes on and on\n",
    "\n",
    "And she goes\n",
    "And now she knows she'll never be afraid\n",
    "To watch the morning paper blow\n",
    "Into a hole where no one can escape\n",
    "'''\n",
    "transform_it = text_to_dict(\"Ghost\",text3,True)\n",
    "all_texts.append(transform_it)"
   ]
  },
  {
   "cell_type": "code",
   "execution_count": 8,
   "metadata": {},
   "outputs": [],
   "source": [
    "text4 = '''\n",
    "Daddy, please hear this song that I sing\n",
    "In your heart there's a spark that just screams for a lover to bring\n",
    "A child to your chest that could lay as you sleep\n",
    "And love all you have left like your boy used to be long ago, wrapped in sheets warm and wet\n",
    "\n",
    "Blister please with those wings in your spine\n",
    "Love to be with a brother of mine, how he'd love to find\n",
    "Your tongue in his teeth in a struggle to find\n",
    "Secret songs that you keep wrapped in boxes so tight, sounding only at night as you sleep\n",
    "\n",
    "And in my dreams you're alive and you're crying\n",
    "As your mouth moves in mine, soft and sweet\n",
    "Rings of flowers 'round your eyes and I'll love you\n",
    "For the rest of your life when you're ready\n",
    "\n",
    "Brother, see we are one in the same\n",
    "And you left with your head filled with flames and you watched as your brains\n",
    "Fell out through your teeth, push the pieces in place, make your smile sweet to see\n",
    "Don't you take this away, I'm still wanting my face on your cheek\n",
    "\n",
    "And when we break, we'll wait for our miracle\n",
    "God is a place where some holy spectacle lies\n",
    "When we break, we'll wait for our miracle\n",
    "God is a place you will wait for the rest of your life\n",
    "\n",
    "Two-headed boy, she is all you could need\n",
    "She will feed you tomatoes and radio wires\n",
    "And retire to sheets safe and clean\n",
    "But don't hate her when she gets up to leave\n",
    "'''\n",
    "transform_it = text_to_dict(\"Two-Headed Boy Part 2\",text4,True)\n",
    "all_texts.append(transform_it)"
   ]
  },
  {
   "cell_type": "markdown",
   "metadata": {},
   "source": [
    "Run the two cells below to confirm that first, you only have five texts in the all_texts list, and next, look at the all_texts list to see the dictionary inside it. "
   ]
  },
  {
   "cell_type": "code",
   "execution_count": 9,
   "metadata": {},
   "outputs": [
    {
     "data": {
      "text/plain": [
       "5"
      ]
     },
     "execution_count": 9,
     "metadata": {},
     "output_type": "execute_result"
    }
   ],
   "source": [
    "len(all_texts)"
   ]
  },
  {
   "cell_type": "code",
   "execution_count": 10,
   "metadata": {},
   "outputs": [
    {
     "data": {
      "text/plain": [
       "[{'title': 'King Of Carrot Flowers Part 1',\n",
       "  'text_as_string': \"\\nWhen you were young you were the king of carrot flowers\\nAnd how you built a tower tumbling through the trees\\nIn holy rattlesnakes that fell all around your feet\\n\\nAnd your mom would stick a fork right into daddy's shoulder\\nAnd dad would throw the garbage all across the floor\\nAs we would lay and learn what each other's bodies were for\\n\\nAnd this is the room one afternoon I knew I could love you\\nAnd from above you how I sank into your soul\\nInto that secret place where no one dares to go\\n\\nAnd your mom would drink until she was no longer speaking\\nAnd dad would dream of all the different ways to die\\nEach one a little more than he could dare to try\\n\",\n",
       "  'lines': ['When you were young you were the king of carrot flowers',\n",
       "   'And how you built a tower tumbling through the trees',\n",
       "   'In holy rattlesnakes that fell all around your feet',\n",
       "   '',\n",
       "   \"And your mom would stick a fork right into daddy's shoulder\",\n",
       "   'And dad would throw the garbage all across the floor',\n",
       "   \"As we would lay and learn what each other's bodies were for\",\n",
       "   '',\n",
       "   'And this is the room one afternoon I knew I could love you',\n",
       "   'And from above you how I sank into your soul',\n",
       "   'Into that secret place where no one dares to go',\n",
       "   '',\n",
       "   'And your mom would drink until she was no longer speaking',\n",
       "   'And dad would dream of all the different ways to die',\n",
       "   'Each one a little more than he could dare to try']},\n",
       " {'title': 'King Of Carrot Flowers Parts 2-3',\n",
       "  'text_as_string': \"\\nI love you Jesus Christ\\nJesus Christ, I love you, yes I do\\nI love you Jesus Christ\\nJesus Christ, I love you, yes I do\\n\\nAnd on the lazy days \\nThe dogs dissolve and drain away\\nThe world it goes and always waits\\nThe day we are awaiting\\n\\nUp and over, we go through the wave and undertow\\nI will float until I learn how to swim\\nInside my mother in a garbage bin\\nUntil I find myself again, again\\n\\nUp and over we go with mouths open wide and spitting still\\nI will spit until I learn how to speak\\nUp through the doorway as the sideboards creak\\nWith them ever proclaiming me, me\\n\\nUp and over we go, the weight it sits on down and I don't know\\nI will shout until they know what I mean\\nI mean the marriage of a dead dog sing\\nAnd a synthetic flying machine, machine\\n\",\n",
       "  'lines': ['I love you Jesus Christ',\n",
       "   'Jesus Christ, I love you, yes I do',\n",
       "   'I love you Jesus Christ',\n",
       "   'Jesus Christ, I love you, yes I do',\n",
       "   '',\n",
       "   'And on the lazy days ',\n",
       "   'The dogs dissolve and drain away',\n",
       "   'The world it goes and always waits',\n",
       "   'The day we are awaiting',\n",
       "   '',\n",
       "   'Up and over, we go through the wave and undertow',\n",
       "   'I will float until I learn how to swim',\n",
       "   'Inside my mother in a garbage bin',\n",
       "   'Until I find myself again, again',\n",
       "   '',\n",
       "   'Up and over we go with mouths open wide and spitting still',\n",
       "   'I will spit until I learn how to speak',\n",
       "   'Up through the doorway as the sideboards creak',\n",
       "   'With them ever proclaiming me, me',\n",
       "   '',\n",
       "   \"Up and over we go, the weight it sits on down and I don't know\",\n",
       "   'I will shout until they know what I mean',\n",
       "   'I mean the marriage of a dead dog sing',\n",
       "   'And a synthetic flying machine, machine']},\n",
       " {'title': 'Communist Daughter',\n",
       "  'text_as_string': '\\nSweet communist, the communist daughter\\nStanding on the sea-weed water\\nSemen stains the mountaintops\\nSemen stains the mountaintops\\n\\nWith coca leaves along the border\\nSweetness swings from every corner\\nCars careening from the clouds\\nThe bridges burst and twist around\\n\\nAnd wanting something warm and moving\\nBend towards herself, the soothing\\nProves that she must still exist\\nShe moves herself about her fist\\n\\nSweet communist, the communist daughter\\nStanding on the sea-weed water\\nSemen stains the mountaintops\\nSemen stains the mountaintops\\n',\n",
       "  'lines': ['Sweet communist, the communist daughter',\n",
       "   'Standing on the sea-weed water',\n",
       "   'Semen stains the mountaintops',\n",
       "   'Semen stains the mountaintops',\n",
       "   '',\n",
       "   'With coca leaves along the border',\n",
       "   'Sweetness swings from every corner',\n",
       "   'Cars careening from the clouds',\n",
       "   'The bridges burst and twist around',\n",
       "   '',\n",
       "   'And wanting something warm and moving',\n",
       "   'Bend towards herself, the soothing',\n",
       "   'Proves that she must still exist',\n",
       "   'She moves herself about her fist',\n",
       "   '',\n",
       "   'Sweet communist, the communist daughter',\n",
       "   'Standing on the sea-weed water',\n",
       "   'Semen stains the mountaintops',\n",
       "   'Semen stains the mountaintops']},\n",
       " {'title': 'Ghost',\n",
       "  'text_as_string': \"\\nGhost, ghost, I know you were within me, feel you as you fly\\nIn thunder clouds above the city, into one that I loved\\nWith all that was left within me 'till we tore in two\\nNow wings and rings and there's so many waiting here for you\\n\\nAnd she was born in a bottle rocket, 1929\\nWith wings that ringed around a socket right between her spine\\nAll drenched in milk in holy water pouring from the sky\\nI know that she will live forever, she won't ever die\\n\\nShe goes\\nAnd now she knows she'll never be afraid\\nTo watch the morning paper blow\\nInto a hole where no one can escape\\n\\nAnd one day in New York City, baby, a girl fell from the sky\\nFrom the top of a burning apartment building fourteen stories high\\nAnd when her spirit left her body, how it split the sun\\nI know that she will live forever, all goes on and on\\n\\nAnd she goes\\nAnd now she knows she'll never be afraid\\nTo watch the morning paper blow\\nInto a hole where no one can escape\\n\",\n",
       "  'lines': ['Ghost, ghost, I know you were within me, feel you as you fly',\n",
       "   'In thunder clouds above the city, into one that I loved',\n",
       "   \"With all that was left within me 'till we tore in two\",\n",
       "   \"Now wings and rings and there's so many waiting here for you\",\n",
       "   '',\n",
       "   'And she was born in a bottle rocket, 1929',\n",
       "   'With wings that ringed around a socket right between her spine',\n",
       "   'All drenched in milk in holy water pouring from the sky',\n",
       "   \"I know that she will live forever, she won't ever die\",\n",
       "   '',\n",
       "   'She goes',\n",
       "   \"And now she knows she'll never be afraid\",\n",
       "   'To watch the morning paper blow',\n",
       "   'Into a hole where no one can escape',\n",
       "   '',\n",
       "   'And one day in New York City, baby, a girl fell from the sky',\n",
       "   'From the top of a burning apartment building fourteen stories high',\n",
       "   'And when her spirit left her body, how it split the sun',\n",
       "   'I know that she will live forever, all goes on and on',\n",
       "   '',\n",
       "   'And she goes',\n",
       "   \"And now she knows she'll never be afraid\",\n",
       "   'To watch the morning paper blow',\n",
       "   'Into a hole where no one can escape']},\n",
       " {'title': 'Two-Headed Boy Part 2',\n",
       "  'text_as_string': \"\\nDaddy, please hear this song that I sing\\nIn your heart there's a spark that just screams for a lover to bring\\nA child to your chest that could lay as you sleep\\nAnd love all you have left like your boy used to be long ago, wrapped in sheets warm and wet\\n\\nBlister please with those wings in your spine\\nLove to be with a brother of mine, how he'd love to find\\nYour tongue in his teeth in a struggle to find\\nSecret songs that you keep wrapped in boxes so tight, sounding only at night as you sleep\\n\\nAnd in my dreams you're alive and you're crying\\nAs your mouth moves in mine, soft and sweet\\nRings of flowers 'round your eyes and I'll love you\\nFor the rest of your life when you're ready\\n\\nBrother, see we are one in the same\\nAnd you left with your head filled with flames and you watched as your brains\\nFell out through your teeth, push the pieces in place, make your smile sweet to see\\nDon't you take this away, I'm still wanting my face on your cheek\\n\\nAnd when we break, we'll wait for our miracle\\nGod is a place where some holy spectacle lies\\nWhen we break, we'll wait for our miracle\\nGod is a place you will wait for the rest of your life\\n\\nTwo-headed boy, she is all you could need\\nShe will feed you tomatoes and radio wires\\nAnd retire to sheets safe and clean\\nBut don't hate her when she gets up to leave\\n\",\n",
       "  'lines': ['Daddy, please hear this song that I sing',\n",
       "   \"In your heart there's a spark that just screams for a lover to bring\",\n",
       "   'A child to your chest that could lay as you sleep',\n",
       "   'And love all you have left like your boy used to be long ago, wrapped in sheets warm and wet',\n",
       "   '',\n",
       "   'Blister please with those wings in your spine',\n",
       "   \"Love to be with a brother of mine, how he'd love to find\",\n",
       "   'Your tongue in his teeth in a struggle to find',\n",
       "   'Secret songs that you keep wrapped in boxes so tight, sounding only at night as you sleep',\n",
       "   '',\n",
       "   \"And in my dreams you're alive and you're crying\",\n",
       "   'As your mouth moves in mine, soft and sweet',\n",
       "   \"Rings of flowers 'round your eyes and I'll love you\",\n",
       "   \"For the rest of your life when you're ready\",\n",
       "   '',\n",
       "   'Brother, see we are one in the same',\n",
       "   'And you left with your head filled with flames and you watched as your brains',\n",
       "   'Fell out through your teeth, push the pieces in place, make your smile sweet to see',\n",
       "   \"Don't you take this away, I'm still wanting my face on your cheek\",\n",
       "   '',\n",
       "   \"And when we break, we'll wait for our miracle\",\n",
       "   'God is a place where some holy spectacle lies',\n",
       "   \"When we break, we'll wait for our miracle\",\n",
       "   'God is a place you will wait for the rest of your life',\n",
       "   '',\n",
       "   'Two-headed boy, she is all you could need',\n",
       "   'She will feed you tomatoes and radio wires',\n",
       "   'And retire to sheets safe and clean',\n",
       "   \"But don't hate her when she gets up to leave\"]}]"
      ]
     },
     "execution_count": 10,
     "metadata": {},
     "output_type": "execute_result"
    }
   ],
   "source": [
    "all_texts"
   ]
  },
  {
   "cell_type": "markdown",
   "metadata": {},
   "source": [
    "In the cell below, loop through all_texts and print out the title of each text. (This is the only code you need to write for Part One.)"
   ]
  },
  {
   "cell_type": "code",
   "execution_count": 11,
   "metadata": {},
   "outputs": [
    {
     "name": "stdout",
     "output_type": "stream",
     "text": [
      "King Of Carrot Flowers Part 1\n",
      "King Of Carrot Flowers Parts 2-3\n",
      "Communist Daughter\n",
      "Ghost\n",
      "Two-Headed Boy Part 2\n"
     ]
    }
   ],
   "source": [
    "for text in all_texts:\n",
    "    print(text['title'])"
   ]
  },
  {
   "cell_type": "markdown",
   "metadata": {},
   "source": [
    "## Part Two:  searching within lists and dictionaries\n",
    "In this part, we will be searching through each text and printing out a desired result. The searches, including loops and printing should all be defined in the function. The second cell should just have to function call that executes the function. I have written an example function and call for the first search. For each function that you write you should copy the original function and modify it so what does what I ask for.\n",
    "\n",
    "For the first five functions, there are no parameters passed to the functions--the calls will just execute the function. Go step-by-step and take your time."
   ]
  },
  {
   "cell_type": "code",
   "execution_count": 12,
   "metadata": {},
   "outputs": [],
   "source": [
    "def get_lengths():\n",
    "    for text in all_texts:\n",
    "        print(text['title'])\n",
    "        print(len(text['text_as_string']))\n",
    "        print(\"------------\")"
   ]
  },
  {
   "cell_type": "code",
   "execution_count": 13,
   "metadata": {},
   "outputs": [
    {
     "name": "stdout",
     "output_type": "stream",
     "text": [
      "King Of Carrot Flowers Part 1\n",
      "650\n",
      "------------\n",
      "King Of Carrot Flowers Parts 2-3\n",
      "754\n",
      "------------\n",
      "Communist Daughter\n",
      "540\n",
      "------------\n",
      "Ghost\n",
      "930\n",
      "------------\n",
      "Two-Headed Boy Part 2\n",
      "1306\n",
      "------------\n"
     ]
    }
   ],
   "source": [
    "get_lengths()"
   ]
  },
  {
   "cell_type": "markdown",
   "metadata": {},
   "source": [
    "Question 1\n",
    "Now write a function that gets the **line count for each poem** (or sentence count for each piece of prose). This function is going to be very similar to the last one. Instead of accessing the whole text via text['text_as_string'] which is a string, you need to access the list of lines/sentences and get the length of that list. Everything else should be the same."
   ]
  },
  {
   "cell_type": "code",
   "execution_count": 14,
   "metadata": {},
   "outputs": [],
   "source": [
    "def get_line_count():\n",
    "    for text in all_texts:\n",
    "        print(text['title'])\n",
    "        print(len(text['lines']))\n",
    "        print(\"------------\")"
   ]
  },
  {
   "cell_type": "code",
   "execution_count": 15,
   "metadata": {},
   "outputs": [
    {
     "name": "stdout",
     "output_type": "stream",
     "text": [
      "King Of Carrot Flowers Part 1\n",
      "15\n",
      "------------\n",
      "King Of Carrot Flowers Parts 2-3\n",
      "24\n",
      "------------\n",
      "Communist Daughter\n",
      "19\n",
      "------------\n",
      "Ghost\n",
      "24\n",
      "------------\n",
      "Two-Headed Boy Part 2\n",
      "29\n",
      "------------\n"
     ]
    }
   ],
   "source": [
    "get_line_count()"
   ]
  },
  {
   "cell_type": "markdown",
   "metadata": {},
   "source": [
    "Question 2\n",
    "Now write a function that prints out **one random line or sentence from each text**. Again, this function will look much the same as the last ones, but instead of getting numbers you need to get actual lines. I have included the necessary import and an example of how to get random integers. Basically, for each text you need to get one element from the list of lines/ sentences with a random number between 0 and the length of the list."
   ]
  },
  {
   "cell_type": "code",
   "execution_count": 16,
   "metadata": {},
   "outputs": [],
   "source": [
    "from random import randint\n",
    "\n",
    "def show_random_lines():\n",
    "    for text in all_texts:\n",
    "        random_num = randint(0, len(text['lines']))\n",
    "        print(text['title'])\n",
    "        print(text['lines'][random_num])\n",
    "        print(\"------------\")\n",
    "\n",
    "# This should be inside the inner loop \n",
    "# so you get a fresh random number for each text\n",
    "# And it should not be from 0 to 9, but 0 to what?\n",
    "# Keep in mind that the range (0,9) give you any number \n",
    "# from 0 to 9 including both 0 and 9.\n",
    "# # random_num = randint(0, 9)"
   ]
  },
  {
   "cell_type": "code",
   "execution_count": 17,
   "metadata": {},
   "outputs": [
    {
     "name": "stdout",
     "output_type": "stream",
     "text": [
      "King Of Carrot Flowers Part 1\n",
      "And your mom would drink until she was no longer speaking\n",
      "------------\n",
      "King Of Carrot Flowers Parts 2-3\n",
      "I mean the marriage of a dead dog sing\n",
      "------------\n",
      "Communist Daughter\n",
      "She moves herself about her fist\n",
      "------------\n",
      "Ghost\n",
      "Into a hole where no one can escape\n",
      "------------\n",
      "Two-Headed Boy Part 2\n",
      "A child to your chest that could lay as you sleep\n",
      "------------\n"
     ]
    }
   ],
   "source": [
    "show_random_lines()"
   ]
  },
  {
   "cell_type": "markdown",
   "metadata": {},
   "source": [
    "Question 3\n",
    "This is a little bit different--instead of printing out something from each text, I want you to **print the entire text of the longest text**. Remember in the first function, I printed out the length of each text. Well, you need to test for the longest text as you look through and when you're done looping through print out the one that is longest.\n",
    "\n",
    "**Major hints!**: To do this you will need two **tracking variables** set before the loop runs: A numerical one that tracks the longest length (the number), and string variable remembers the actual text that has that length.\n",
    "\n",
    "Like this: longest_length = 0 and longest_text = \"\"\n",
    "\n",
    "When you loop through you need to test if each text was longer than the last one, and if it is longer--you update longest_length and longest_text to reflect the highest length, and the actual text. When the loop is over you then print out that longest_text string."
   ]
  },
  {
   "cell_type": "code",
   "execution_count": 18,
   "metadata": {},
   "outputs": [],
   "source": [
    "def longest_text():\n",
    "    longest_length = 0 \n",
    "    longest_text = \"\"\n",
    "    for text in all_texts:\n",
    "        if len(text['text_as_string']) >= longest_length:\n",
    "            longest_length = len(text['text_as_string'])\n",
    "            longest_text = text\n",
    "        else:\n",
    "            pass\n",
    "    print(longest_text['title'])\n",
    "    print(\"------------\")\n",
    "    print(*longest_text['lines'], sep = \"\\n\")"
   ]
  },
  {
   "cell_type": "code",
   "execution_count": 19,
   "metadata": {},
   "outputs": [
    {
     "name": "stdout",
     "output_type": "stream",
     "text": [
      "Two-Headed Boy Part 2\n",
      "------------\n",
      "Daddy, please hear this song that I sing\n",
      "In your heart there's a spark that just screams for a lover to bring\n",
      "A child to your chest that could lay as you sleep\n",
      "And love all you have left like your boy used to be long ago, wrapped in sheets warm and wet\n",
      "\n",
      "Blister please with those wings in your spine\n",
      "Love to be with a brother of mine, how he'd love to find\n",
      "Your tongue in his teeth in a struggle to find\n",
      "Secret songs that you keep wrapped in boxes so tight, sounding only at night as you sleep\n",
      "\n",
      "And in my dreams you're alive and you're crying\n",
      "As your mouth moves in mine, soft and sweet\n",
      "Rings of flowers 'round your eyes and I'll love you\n",
      "For the rest of your life when you're ready\n",
      "\n",
      "Brother, see we are one in the same\n",
      "And you left with your head filled with flames and you watched as your brains\n",
      "Fell out through your teeth, push the pieces in place, make your smile sweet to see\n",
      "Don't you take this away, I'm still wanting my face on your cheek\n",
      "\n",
      "And when we break, we'll wait for our miracle\n",
      "God is a place where some holy spectacle lies\n",
      "When we break, we'll wait for our miracle\n",
      "God is a place you will wait for the rest of your life\n",
      "\n",
      "Two-headed boy, she is all you could need\n",
      "She will feed you tomatoes and radio wires\n",
      "And retire to sheets safe and clean\n",
      "But don't hate her when she gets up to leave\n"
     ]
    }
   ],
   "source": [
    "longest_text()"
   ]
  },
  {
   "cell_type": "markdown",
   "metadata": {},
   "source": [
    "Question 4\n",
    "This is kind of a combination of the first two functions--write a function that gets the **average line/sentence length for each text**."
   ]
  },
  {
   "cell_type": "code",
   "execution_count": 20,
   "metadata": {},
   "outputs": [],
   "source": [
    "from statistics import mean\n",
    "\n",
    "def average_line_length():\n",
    "    for text in all_texts:\n",
    "        text_line_len = []\n",
    "        for line in text['lines']:\n",
    "            text_line_len.append(len(line))\n",
    "        print(text['title'])\n",
    "        print(round(mean(text_line_len),1))\n",
    "        print(\"------------\")"
   ]
  },
  {
   "cell_type": "code",
   "execution_count": 21,
   "metadata": {},
   "outputs": [
    {
     "name": "stdout",
     "output_type": "stream",
     "text": [
      "King Of Carrot Flowers Part 1\n",
      "42.3\n",
      "------------\n",
      "King Of Carrot Flowers Parts 2-3\n",
      "30.4\n",
      "------------\n",
      "Communist Daughter\n",
      "27.4\n",
      "------------\n",
      "Ghost\n",
      "37.7\n",
      "------------\n",
      "Two-Headed Boy Part 2\n",
      "44\n",
      "------------\n"
     ]
    }
   ],
   "source": [
    "average_line_length()"
   ]
  },
  {
   "cell_type": "markdown",
   "metadata": {},
   "source": [
    "Question 5\n",
    "**Print the longest line/sentence in each text**. \n",
    "This is similar to question 3--but your two tracking variables (longest_length and longest_line) need to be placed right before the inside loop--and then you print the lines each time the inside loop ends."
   ]
  },
  {
   "cell_type": "code",
   "execution_count": 22,
   "metadata": {},
   "outputs": [],
   "source": [
    "def longest_line_in_each():\n",
    "    for text in all_texts:\n",
    "        longest_length = 0 \n",
    "        longest_line = \"\"\n",
    "        for line in text['lines']:\n",
    "            if len(line) >= longest_length:\n",
    "                longest_length = len(line)\n",
    "                longest_line = line\n",
    "        print(text['title'])\n",
    "        print(longest_line)\n",
    "        print(\"------------\")"
   ]
  },
  {
   "cell_type": "code",
   "execution_count": 23,
   "metadata": {},
   "outputs": [
    {
     "name": "stdout",
     "output_type": "stream",
     "text": [
      "King Of Carrot Flowers Part 1\n",
      "As we would lay and learn what each other's bodies were for\n",
      "------------\n",
      "King Of Carrot Flowers Parts 2-3\n",
      "Up and over we go, the weight it sits on down and I don't know\n",
      "------------\n",
      "Communist Daughter\n",
      "Sweet communist, the communist daughter\n",
      "------------\n",
      "Ghost\n",
      "From the top of a burning apartment building fourteen stories high\n",
      "------------\n",
      "Two-Headed Boy Part 2\n",
      "And love all you have left like your boy used to be long ago, wrapped in sheets warm and wet\n",
      "------------\n"
     ]
    }
   ],
   "source": [
    "longest_line_in_each()"
   ]
  },
  {
   "cell_type": "markdown",
   "metadata": {},
   "source": [
    "Question 6\n",
    "**Print the shortest single line/sentence out of all of the texts that is greater than zero**\n",
    "This is the tricky-ish: You need to place the tracking variables outside the loop (like question 4, but the loop through all of the lines, test for the shortest one (greater than 0)."
   ]
  },
  {
   "cell_type": "code",
   "execution_count": 30,
   "metadata": {},
   "outputs": [],
   "source": [
    "def shortest_line_in_each():\n",
    "    for text in all_texts:\n",
    "        shortest_length = 999\n",
    "        shortest_line = \"\"\n",
    "        for line in text['lines']:\n",
    "            if len(line) < shortest_length and len(line) != 0:\n",
    "                shortest_length = len(line)\n",
    "                shortest_line = line\n",
    "        print(text['title'])\n",
    "        print(shortest_line)\n",
    "        print(\"------------\")"
   ]
  },
  {
   "cell_type": "code",
   "execution_count": 31,
   "metadata": {},
   "outputs": [
    {
     "name": "stdout",
     "output_type": "stream",
     "text": [
      "King Of Carrot Flowers Part 1\n",
      "And from above you how I sank into your soul\n",
      "------------\n",
      "King Of Carrot Flowers Parts 2-3\n",
      "And on the lazy days \n",
      "------------\n",
      "Communist Daughter\n",
      "Semen stains the mountaintops\n",
      "------------\n",
      "Ghost\n",
      "She goes\n",
      "------------\n",
      "Two-Headed Boy Part 2\n",
      "Brother, see we are one in the same\n",
      "------------\n"
     ]
    }
   ],
   "source": [
    "shortest_line_in_each()"
   ]
  },
  {
   "cell_type": "code",
   "execution_count": 32,
   "metadata": {},
   "outputs": [],
   "source": [
    "def shortest_of_all_lines():\n",
    "    shortest_length = 999\n",
    "    shortest_line = \"\"\n",
    "    for text in all_texts:\n",
    "        for line in text['lines']:\n",
    "            if len(line) < shortest_length and len(line) != 0:\n",
    "                shortest_length = len(line)\n",
    "                shortest_line = line\n",
    "    print(shortest_line)"
   ]
  },
  {
   "cell_type": "code",
   "execution_count": 33,
   "metadata": {},
   "outputs": [
    {
     "name": "stdout",
     "output_type": "stream",
     "text": [
      "She goes\n"
     ]
    }
   ],
   "source": [
    "shortest_of_all_lines()"
   ]
  },
  {
   "cell_type": "markdown",
   "metadata": {},
   "source": [
    "## searching with regular expressions\n",
    "In the functions below you will search all the texts using regular expressions. The first few of these functions should not be too challenging--you just need to adjust the regular expression inside the function. At points it gets a little more complex as you have to control the looping through the lists and dictionaries."
   ]
  },
  {
   "cell_type": "code",
   "execution_count": 34,
   "metadata": {},
   "outputs": [],
   "source": [
    "def get_this_word(word):\n",
    "    my_regex = r\"\\b\" + word + r\"\\b\"\n",
    "    for text in all_texts:\n",
    "        result = [line for line in text['lines'] if re.search(my_regex, line, re.IGNORECASE)]\n",
    "        if len(result) > 0:\n",
    "            print(text['title'])\n",
    "            [print(line) for line in result]\n",
    "            print(\"------------\")"
   ]
  },
  {
   "cell_type": "code",
   "execution_count": 35,
   "metadata": {},
   "outputs": [
    {
     "name": "stdout",
     "output_type": "stream",
     "text": [
      "King Of Carrot Flowers Part 1\n",
      "And your mom would drink until she was no longer speaking\n",
      "------------\n",
      "Communist Daughter\n",
      "Proves that she must still exist\n",
      "She moves herself about her fist\n",
      "------------\n",
      "Ghost\n",
      "And she was born in a bottle rocket, 1929\n",
      "I know that she will live forever, she won't ever die\n",
      "She goes\n",
      "And now she knows she'll never be afraid\n",
      "I know that she will live forever, all goes on and on\n",
      "And she goes\n",
      "And now she knows she'll never be afraid\n",
      "------------\n",
      "Two-Headed Boy Part 2\n",
      "Two-headed boy, she is all you could need\n",
      "She will feed you tomatoes and radio wires\n",
      "But don't hate her when she gets up to leave\n",
      "------------\n"
     ]
    }
   ],
   "source": [
    "get_this_word('she')"
   ]
  },
  {
   "cell_type": "markdown",
   "metadata": {},
   "source": [
    "Question 7\n",
    "Print out the lines that **start** with the word entered.  You just need to adjust the regular expression here."
   ]
  },
  {
   "cell_type": "code",
   "execution_count": 36,
   "metadata": {},
   "outputs": [],
   "source": [
    "def line_starts_with(word):\n",
    "    my_regex = r\"^\" + word + r\"\\b\"\n",
    "    for text in all_texts:\n",
    "        result = [line for line in text['lines'] if re.search(my_regex, line, re.IGNORECASE)]\n",
    "        if len(result) > 0:\n",
    "            print(text['title'])\n",
    "            [print(line) for line in result]\n",
    "            print(\"------------\")"
   ]
  },
  {
   "cell_type": "code",
   "execution_count": 37,
   "metadata": {},
   "outputs": [
    {
     "name": "stdout",
     "output_type": "stream",
     "text": [
      "King Of Carrot Flowers Parts 2-3\n",
      "The dogs dissolve and drain away\n",
      "The world it goes and always waits\n",
      "The day we are awaiting\n",
      "------------\n",
      "Communist Daughter\n",
      "The bridges burst and twist around\n",
      "------------\n"
     ]
    }
   ],
   "source": [
    "line_starts_with('the')"
   ]
  },
  {
   "cell_type": "markdown",
   "metadata": {},
   "source": [
    "Question 8\n",
    "Print out the lines that **end** with the word entered.  You just need to adjust the regular expression here."
   ]
  },
  {
   "cell_type": "code",
   "execution_count": 38,
   "metadata": {},
   "outputs": [],
   "source": [
    "def line_ends_with(word):\n",
    "    my_regex = r\"\\b\" + word + r\"\\S*$\"\n",
    "    for text in all_texts:\n",
    "        result = [line for line in text['lines'] if re.search(my_regex, line, re.IGNORECASE)]\n",
    "        if len(result) > 0:\n",
    "            print(text['title'])\n",
    "            [print(line) for line in result]\n",
    "            print(\"------------\")"
   ]
  },
  {
   "cell_type": "code",
   "execution_count": 39,
   "metadata": {},
   "outputs": [
    {
     "name": "stdout",
     "output_type": "stream",
     "text": [
      "King Of Carrot Flowers Part 1\n",
      "And this is the room one afternoon I knew I could love you\n",
      "------------\n",
      "Ghost\n",
      "Now wings and rings and there's so many waiting here for you\n",
      "------------\n",
      "Two-Headed Boy Part 2\n",
      "Rings of flowers 'round your eyes and I'll love you\n",
      "------------\n"
     ]
    }
   ],
   "source": [
    "line_ends_with('you')"
   ]
  },
  {
   "cell_type": "markdown",
   "metadata": {},
   "source": [
    "Question 9\n",
    "Print out **how many times the word was found in each text.** In this case, instead of the list comprehension, you want to run a re.findall() on the string of the text (not the list) and then count the number of elements in the list of results.\n",
    "\n",
    "Hint: use the original function at the beginning of this section, and make the proper adjustments to the variable \"result\""
   ]
  },
  {
   "cell_type": "code",
   "execution_count": 40,
   "metadata": {},
   "outputs": [],
   "source": [
    "def how_many_times(word):\n",
    "    for text in all_texts:\n",
    "        word_count = len(re.findall(r\"\\b\" + word + r\"\\b\", text['text_as_string'], re.IGNORECASE))\n",
    "        print(text['title'])\n",
    "        print(word_count)\n",
    "        print(\"------------\")"
   ]
  },
  {
   "cell_type": "code",
   "execution_count": 41,
   "metadata": {},
   "outputs": [
    {
     "name": "stdout",
     "output_type": "stream",
     "text": [
      "King Of Carrot Flowers Part 1\n",
      "1\n",
      "------------\n",
      "King Of Carrot Flowers Parts 2-3\n",
      "0\n",
      "------------\n",
      "Communist Daughter\n",
      "2\n",
      "------------\n",
      "Ghost\n",
      "10\n",
      "------------\n",
      "Two-Headed Boy Part 2\n",
      "3\n",
      "------------\n"
     ]
    }
   ],
   "source": [
    "how_many_times('she')"
   ]
  },
  {
   "cell_type": "markdown",
   "metadata": {},
   "source": [
    "Question 10\n",
    "Print out **the text that has the highest occurrence of the word** you searched for. This is similar to the last function, but here you need tracking variables like you had in Question 3.\n"
   ]
  },
  {
   "cell_type": "code",
   "execution_count": 47,
   "metadata": {},
   "outputs": [],
   "source": [
    "def text_with_most_occurance_of(word):\n",
    "    most_count = 0\n",
    "    most_title = \"None\"\n",
    "    for text in all_texts:\n",
    "        word_count = len(re.findall(r\"\\b\" + word + r\"\\b\", text['text_as_string'], re.IGNORECASE))\n",
    "        if word_count > most_count:\n",
    "            most_count = word_count\n",
    "            most_title = text['title']\n",
    "    print(most_title)\n",
    "    print(most_count)"
   ]
  },
  {
   "cell_type": "code",
   "execution_count": 49,
   "metadata": {},
   "outputs": [
    {
     "name": "stdout",
     "output_type": "stream",
     "text": [
      "King Of Carrot Flowers Parts 2-3\n",
      "15\n"
     ]
    }
   ],
   "source": [
    "text_with_most_occurance_of('I')"
   ]
  },
  {
   "cell_type": "markdown",
   "metadata": {},
   "source": [
    "Question 11\n",
    "Print out **lines containing words of the length asked**. We are sort of back to basics here, you just need to modify the regular expression of the first function (get_this_word(word)) so that it can take a number parameter for the length of characters in a word."
   ]
  },
  {
   "cell_type": "code",
   "execution_count": null,
   "metadata": {},
   "outputs": [],
   "source": [
    "my_regex = r\"\\b\\w{12}\\b\"\n",
    "for text in all_texts:\n",
    "    result = [line for line in text['lines'] if re.search(my_regex, line, re.IGNORECASE)]\n",
    "    print(text['title'])\n",
    "    [print(line) for line in result]\n",
    "    print(\"------------\")\n",
    "    \n",
    "# def lines_with_words_this_length(word):\n",
    "#     my_regex = r\"\\b\\w{int(number)}\\b\"\n",
    "#     for text in all_texts:\n",
    "#         result = [line for line in text['lines'] if re.search(my_regex, line, re.IGNORECASE)]\n",
    "#         print(text['title'])\n",
    "#         [print(line) for line in result]\n",
    "#         print(\"------------\")"
   ]
  },
  {
   "cell_type": "code",
   "execution_count": null,
   "metadata": {},
   "outputs": [],
   "source": [
    "def lines_with_words_this_length(num):\n",
    "    my_regex = r\"\\b\\w{n}\\b\".format(n=num)\n",
    "    for text in all_texts:\n",
    "        result = [line for line in text['lines'] if re.search(my_regex, line, re.IGNORECASE)]\n",
    "        print(text['title'])\n",
    "        [print(line) for line in result]\n",
    "        print(\"------------\")"
   ]
  },
  {
   "cell_type": "code",
   "execution_count": null,
   "metadata": {},
   "outputs": [],
   "source": [
    "lines_with_words_this_length('12')"
   ]
  },
  {
   "cell_type": "markdown",
   "metadata": {
    "collapsed": true
   },
   "source": [
    "**Final question:** in this cell, describe two functions that you would like to write, not ones that you're able to write, but ones you think would be useful or interesting or fun. If you feel like trying to write it, go-ahead!"
   ]
  },
  {
   "cell_type": "code",
   "execution_count": null,
   "metadata": {},
   "outputs": [],
   "source": []
  },
  {
   "cell_type": "markdown",
   "metadata": {
    "collapsed": true
   },
   "source": [
    "**Bonus question:** Write a function that counts word frequency: that is, it returns a dictionary with each unique word and its count, sorted by the most frequent. Note, this is highly stack-overflowable -- Python has some built in ways of doing this. If you're doing this, you might as well try to do it on your own. But it's up to you!"
   ]
  },
  {
   "cell_type": "code",
   "execution_count": null,
   "metadata": {},
   "outputs": [],
   "source": []
  }
 ],
 "metadata": {
  "kernelspec": {
   "display_name": "Python 3",
   "language": "python",
   "name": "python3"
  },
  "language_info": {
   "codemirror_mode": {
    "name": "ipython",
    "version": 3
   },
   "file_extension": ".py",
   "mimetype": "text/x-python",
   "name": "python",
   "nbconvert_exporter": "python",
   "pygments_lexer": "ipython3",
   "version": "3.7.3"
  }
 },
 "nbformat": 4,
 "nbformat_minor": 2
}
