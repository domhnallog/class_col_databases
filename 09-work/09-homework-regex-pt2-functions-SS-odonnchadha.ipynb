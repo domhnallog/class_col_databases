{
 "cells": [
  {
   "cell_type": "markdown",
   "metadata": {},
   "source": [
    "## homework 4.2: investigating lists and dictionaries using functions\n",
    "\n",
    "In this assignment I will ask you to pick five relatively short texts (poems, paragraphs, short essays, song lyrics, whatever interests you). The main thing is to make sure that each text is around 10 - 20 lines or sentences long. Below, I have selected five poems by Wallace Stevens. In each cell I have made a variable that contains each poem, and then I pass that poem through a function called `text_to_dict` that makes a dictionary for each poem. The dictionary contains the title of the poem, the full text as one string, and a list that contains each line of the poem. The function will also make lists of sentences instead of lines if you want to investigate a prose text (sentence by sentence) instead of a poem (line by line).\n",
    "\n",
    "There are two parts of this assignment. \n",
    "\n",
    "**Part 1**, which should be easy, is to replace the poems with texts of your own choice--and choose to split them by lines or sentences. \n",
    "\n",
    "**Part 2** is to write functions that investigate your texts. If you want to focus on the functions first, you can go straight to Part 2 and use the poems I have chosen. You can then go back and enter your own texts--your functions should work no matter what text you've chosen.\n"
   ]
  },
  {
   "cell_type": "code",
   "execution_count": 1,
   "metadata": {},
   "outputs": [],
   "source": [
    "#Run this cell toImport regular expressions\n",
    "#And to initialize the all texts list that will contain all of your dictionaries of text\n",
    "import re\n",
    "all_texts = []"
   ]
  },
  {
   "cell_type": "markdown",
   "metadata": {},
   "source": [
    "** understanding the text_to_dict function**\n",
    "\n",
    "You don't have to completely understand this function to use it, but you do need to understand its parameters. It takes three parameters:\n",
    "* `title` is a string you need to write inside function's parameters\n",
    "* `text` is the variable that holds the entire text\n",
    "* `poem` True/False parameter --if it is true it will split your text by line (`\\n`) \n",
    " \tIf it is false it will split your text by sentence ('[.?!])\n",
    "\n",
    "If you look at the function you will see that it builds a dictionary with the following fields:\n",
    "* `title` is the title of the text\n",
    "* `text_as_string` is the full text as a string\n",
    "* `lines` is a list of lines or sentences\n",
    "\n",
    "It returns a dictionary with those fields."
   ]
  },
  {
   "cell_type": "code",
   "execution_count": 2,
   "metadata": {},
   "outputs": [],
   "source": [
    "def text_to_dict(title,text,poem):\n",
    "    dict_of_this_text = {}\n",
    "    dict_of_this_text['title'] = title\n",
    "    dict_of_this_text['text_as_string'] = text\n",
    "    if poem:\n",
    "        text_to_list = text.strip().split('\\n')\n",
    "    else:\n",
    "        text_to_list = re.split(r\"[.?!]\",text)\n",
    "    dict_of_this_text['lines'] = text_to_list\n",
    "    return dict_of_this_text\n"
   ]
  },
  {
   "cell_type": "code",
   "execution_count": 3,
   "metadata": {},
   "outputs": [],
   "source": [
    "#please note: the regular expression I am using to split by sentences\n",
    "#is highly flawed, it is actually impossible to write regular expression \n",
    "#that splits 100% perfectly by sentence, but feel free to use this."
   ]
  },
  {
   "cell_type": "markdown",
   "metadata": {},
   "source": [
    "## Part One\n",
    "\n",
    "The next five cells are exactly the same. They define five different texts, and then they pass each text through the `text_to_dict` function. And then they add the resulting dictionary to the all_texts list. \n",
    "\n",
    "In the five cells below enter your five selected texts.\n",
    "\n",
    "**You should do no coding at any point** until the very last cell before part two."
   ]
  },
  {
   "cell_type": "code",
   "execution_count": 4,
   "metadata": {},
   "outputs": [],
   "source": [
    "#To change the text, just put a new text between the quotation mark\n",
    "text0 = '''\n",
    "It's the same outside\n",
    "Driving to the riverside\n",
    "I pretend to cry\n",
    "Even if I cried alone\n",
    "\n",
    "I forgot the start\n",
    "Use my hands to use my heart\n",
    "Even if I died alone\n",
    "Even if I died alone\n",
    "\n",
    "Since the first of June\n",
    "Lost my job and lost my room\n",
    "I pretend to try\n",
    "Even if I tried alone\n",
    "\n",
    "I forgot the part\n",
    "Use my hands to use my heart\n",
    "Even if I died alone\n",
    "Even if I died alone\n",
    "Even if I died alone\n",
    "Even if I died alone\n",
    "Even if I died\n",
    "'''\n",
    "#Remember: you need to type the title into the first parameter\n",
    "#If you want to split by line choose True for the third parameter\n",
    "#If you want to split by sentence, choose False\n",
    "transform_it = text_to_dict(\"Flint (For The Unemployed And Underpaid)\",text0,True)\n",
    "all_texts.append(transform_it)"
   ]
  },
  {
   "cell_type": "code",
   "execution_count": 5,
   "metadata": {},
   "outputs": [],
   "source": [
    "text1 = '''\n",
    "All good thoughts in spite of righteousness\n",
    "Is not the kind of thoughts in spite of greatness\n",
    "Often not the state is advocation\n",
    "If we form a power of recognition\n",
    "\n",
    "Forget loss and perfect advocation\n",
    "If it drops or stays in convocation\n",
    "All we praise is all we want in commerce\n",
    "All we praise is parties, foreign commerce\n",
    "Entertain ideas of great communion\n",
    "Shelter not materials in union\n",
    "(All we praise is not the kind of commerce\n",
    "That's the right solution!)\n",
    "\n",
    "All good thoughts is not the act of doing\n",
    "What we want but what we should improving\n",
    "Properties, ideas, a woman's pleasure\n",
    "Is empowered by love, a perfect measure!\n",
    "'''\n",
    "transform_it = text_to_dict(\"All Good Naysayers, Speak Up! Or Forever Hold Your Peace!\",text1,True)\n",
    "all_texts.append(transform_it)"
   ]
  },
  {
   "cell_type": "code",
   "execution_count": 6,
   "metadata": {},
   "outputs": [],
   "source": [
    "text2 = '''\n",
    "I live in America with a pair of Payless shoes\n",
    "The Upper Peninsula and the television news\n",
    "I've seen my wife at the K-Mart\n",
    "In strange ideas we live apart\n",
    "\n",
    "I live in a trailer home with a snowmobile, my car\n",
    "The window is broken out and the interstate is far\n",
    "I drove all night to find my child\n",
    "In strange ideas he's been revived\n",
    "\n",
    "In strange ideas, in stranger times\n",
    "I've no idea what's right sometimes\n",
    "I lost my mind, I lost my life\n",
    "I lost my job, I lost my wife\n",
    "'''\n",
    "transform_it = text_to_dict(\"The Upper Peninsula\",text2,True)\n",
    "all_texts.append(transform_it)"
   ]
  },
  {
   "cell_type": "code",
   "execution_count": 7,
   "metadata": {},
   "outputs": [],
   "source": [
    "text3 = '''\n",
    "Oh God, hold me now \n",
    "Oh Lord, hold me now \n",
    "There's no other man who could raise the dead \n",
    "So do what you can to anoint my head \n",
    "\n",
    "Oh God, where are you now? \n",
    "Oh Lord, say somehow \n",
    "The devil is hard on my face again \n",
    "The world is a hundred to one again \n",
    "\n",
    "Would the righteous still remain? \n",
    "Would my body stay the same? \n",
    "\n",
    "Oh God, hold me now \n",
    "Oh God, touch me now \n",
    "There's no other man who could save the dead \n",
    "There's no other God to place our head \n",
    "\n",
    "Would the righteous still remain? \n",
    "Would my body stay the same? \n",
    "\n",
    "There's no other man who could raise the dead \n",
    "So do what you can to anoint my head \n",
    "\n",
    "Oh God, hold me now \n",
    "Oh Lord, touch me now\n",
    "'''\n",
    "transform_it = text_to_dict(\"Oh God, Where Are You Now?\",text3,True)\n",
    "all_texts.append(transform_it)"
   ]
  },
  {
   "cell_type": "code",
   "execution_count": 8,
   "metadata": {},
   "outputs": [],
   "source": [
    "text4 = '''\n",
    "Oh Sleeping Bear! \n",
    "Ran to the top and got scared \n",
    "of what I could see. \n",
    "\n",
    "Oh Lamb of God! \n",
    "Tell us your perfect design \n",
    "and give us the rod. \n",
    "\n",
    "Oh Sturgeon Bay! \n",
    "Covered completely in sand \n",
    "And covered in sun. \n",
    "\n",
    "Oh Saint Marie! Give up \n",
    "the rocking boats drowned. \n",
    "The Captain is done\n",
    "'''\n",
    "transform_it = text_to_dict(\"Sleeping Bear, Sault Saint Marie\",text4,True)\n",
    "all_texts.append(transform_it)"
   ]
  },
  {
   "cell_type": "markdown",
   "metadata": {},
   "source": [
    "Run the two cells below to confirm that first, you only have five texts in the all_texts list, and next, look at the all_texts list to see the dictionary inside it. "
   ]
  },
  {
   "cell_type": "code",
   "execution_count": 9,
   "metadata": {},
   "outputs": [
    {
     "data": {
      "text/plain": [
       "5"
      ]
     },
     "execution_count": 9,
     "metadata": {},
     "output_type": "execute_result"
    }
   ],
   "source": [
    "len(all_texts)"
   ]
  },
  {
   "cell_type": "code",
   "execution_count": 10,
   "metadata": {},
   "outputs": [
    {
     "data": {
      "text/plain": [
       "[{'title': 'Flint (For The Unemployed And Underpaid)',\n",
       "  'text_as_string': \"\\nIt's the same outside\\nDriving to the riverside\\nI pretend to cry\\nEven if I cried alone\\n\\nI forgot the start\\nUse my hands to use my heart\\nEven if I died alone\\nEven if I died alone\\n\\nSince the first of June\\nLost my job and lost my room\\nI pretend to try\\nEven if I tried alone\\n\\nI forgot the part\\nUse my hands to use my heart\\nEven if I died alone\\nEven if I died alone\\nEven if I died alone\\nEven if I died alone\\nEven if I died\\n\",\n",
       "  'lines': [\"It's the same outside\",\n",
       "   'Driving to the riverside',\n",
       "   'I pretend to cry',\n",
       "   'Even if I cried alone',\n",
       "   '',\n",
       "   'I forgot the start',\n",
       "   'Use my hands to use my heart',\n",
       "   'Even if I died alone',\n",
       "   'Even if I died alone',\n",
       "   '',\n",
       "   'Since the first of June',\n",
       "   'Lost my job and lost my room',\n",
       "   'I pretend to try',\n",
       "   'Even if I tried alone',\n",
       "   '',\n",
       "   'I forgot the part',\n",
       "   'Use my hands to use my heart',\n",
       "   'Even if I died alone',\n",
       "   'Even if I died alone',\n",
       "   'Even if I died alone',\n",
       "   'Even if I died alone',\n",
       "   'Even if I died']},\n",
       " {'title': 'All Good Naysayers, Speak Up! Or Forever Hold Your Peace!',\n",
       "  'text_as_string': \"\\nAll good thoughts in spite of righteousness\\nIs not the kind of thoughts in spite of greatness\\nOften not the state is advocation\\nIf we form a power of recognition\\n\\nForget loss and perfect advocation\\nIf it drops or stays in convocation\\nAll we praise is all we want in commerce\\nAll we praise is parties, foreign commerce\\nEntertain ideas of great communion\\nShelter not materials in union\\n(All we praise is not the kind of commerce\\nThat's the right solution!)\\n\\nAll good thoughts is not the act of doing\\nWhat we want but what we should improving\\nProperties, ideas, a woman's pleasure\\nIs empowered by love, a perfect measure!\\n\",\n",
       "  'lines': ['All good thoughts in spite of righteousness',\n",
       "   'Is not the kind of thoughts in spite of greatness',\n",
       "   'Often not the state is advocation',\n",
       "   'If we form a power of recognition',\n",
       "   '',\n",
       "   'Forget loss and perfect advocation',\n",
       "   'If it drops or stays in convocation',\n",
       "   'All we praise is all we want in commerce',\n",
       "   'All we praise is parties, foreign commerce',\n",
       "   'Entertain ideas of great communion',\n",
       "   'Shelter not materials in union',\n",
       "   '(All we praise is not the kind of commerce',\n",
       "   \"That's the right solution!)\",\n",
       "   '',\n",
       "   'All good thoughts is not the act of doing',\n",
       "   'What we want but what we should improving',\n",
       "   \"Properties, ideas, a woman's pleasure\",\n",
       "   'Is empowered by love, a perfect measure!']},\n",
       " {'title': 'The Upper Peninsula',\n",
       "  'text_as_string': \"\\nI live in America with a pair of Payless shoes\\nThe Upper Peninsula and the television news\\nI've seen my wife at the K-Mart\\nIn strange ideas we live apart\\n\\nI live in a trailer home with a snowmobile, my car\\nThe window is broken out and the interstate is far\\nI drove all night to find my child\\nIn strange ideas he's been revived\\n\\nIn strange ideas, in stranger times\\nI've no idea what's right sometimes\\nI lost my mind, I lost my life\\nI lost my job, I lost my wife\\n\",\n",
       "  'lines': ['I live in America with a pair of Payless shoes',\n",
       "   'The Upper Peninsula and the television news',\n",
       "   \"I've seen my wife at the K-Mart\",\n",
       "   'In strange ideas we live apart',\n",
       "   '',\n",
       "   'I live in a trailer home with a snowmobile, my car',\n",
       "   'The window is broken out and the interstate is far',\n",
       "   'I drove all night to find my child',\n",
       "   \"In strange ideas he's been revived\",\n",
       "   '',\n",
       "   'In strange ideas, in stranger times',\n",
       "   \"I've no idea what's right sometimes\",\n",
       "   'I lost my mind, I lost my life',\n",
       "   'I lost my job, I lost my wife']},\n",
       " {'title': 'Oh God, Where Are You Now?',\n",
       "  'text_as_string': \"\\nOh God, hold me now \\nOh Lord, hold me now \\nThere's no other man who could raise the dead \\nSo do what you can to anoint my head \\n\\nOh God, where are you now? \\nOh Lord, say somehow \\nThe devil is hard on my face again \\nThe world is a hundred to one again \\n\\nWould the righteous still remain? \\nWould my body stay the same? \\n\\nOh God, hold me now \\nOh God, touch me now \\nThere's no other man who could save the dead \\nThere's no other God to place our head \\n\\nWould the righteous still remain? \\nWould my body stay the same? \\n\\nThere's no other man who could raise the dead \\nSo do what you can to anoint my head \\n\\nOh God, hold me now \\nOh Lord, touch me now\\n\",\n",
       "  'lines': ['Oh God, hold me now ',\n",
       "   'Oh Lord, hold me now ',\n",
       "   \"There's no other man who could raise the dead \",\n",
       "   'So do what you can to anoint my head ',\n",
       "   '',\n",
       "   'Oh God, where are you now? ',\n",
       "   'Oh Lord, say somehow ',\n",
       "   'The devil is hard on my face again ',\n",
       "   'The world is a hundred to one again ',\n",
       "   '',\n",
       "   'Would the righteous still remain? ',\n",
       "   'Would my body stay the same? ',\n",
       "   '',\n",
       "   'Oh God, hold me now ',\n",
       "   'Oh God, touch me now ',\n",
       "   \"There's no other man who could save the dead \",\n",
       "   \"There's no other God to place our head \",\n",
       "   '',\n",
       "   'Would the righteous still remain? ',\n",
       "   'Would my body stay the same? ',\n",
       "   '',\n",
       "   \"There's no other man who could raise the dead \",\n",
       "   'So do what you can to anoint my head ',\n",
       "   '',\n",
       "   'Oh God, hold me now ',\n",
       "   'Oh Lord, touch me now']},\n",
       " {'title': 'Sleeping Bear, Sault Saint Marie',\n",
       "  'text_as_string': '\\nOh Sleeping Bear! \\nRan to the top and got scared \\nof what I could see. \\n\\nOh Lamb of God! \\nTell us your perfect design \\nand give us the rod. \\n\\nOh Sturgeon Bay! \\nCovered completely in sand \\nAnd covered in sun. \\n\\nOh Saint Marie! Give up \\nthe rocking boats drowned. \\nThe Captain is done\\n',\n",
       "  'lines': ['Oh Sleeping Bear! ',\n",
       "   'Ran to the top and got scared ',\n",
       "   'of what I could see. ',\n",
       "   '',\n",
       "   'Oh Lamb of God! ',\n",
       "   'Tell us your perfect design ',\n",
       "   'and give us the rod. ',\n",
       "   '',\n",
       "   'Oh Sturgeon Bay! ',\n",
       "   'Covered completely in sand ',\n",
       "   'And covered in sun. ',\n",
       "   '',\n",
       "   'Oh Saint Marie! Give up ',\n",
       "   'the rocking boats drowned. ',\n",
       "   'The Captain is done']}]"
      ]
     },
     "execution_count": 10,
     "metadata": {},
     "output_type": "execute_result"
    }
   ],
   "source": [
    "all_texts"
   ]
  },
  {
   "cell_type": "markdown",
   "metadata": {},
   "source": [
    "In the cell below, loop through all_texts and print out the title of each text. (This is the only code you need to write for Part One.)"
   ]
  },
  {
   "cell_type": "code",
   "execution_count": 11,
   "metadata": {},
   "outputs": [
    {
     "name": "stdout",
     "output_type": "stream",
     "text": [
      "Flint (For The Unemployed And Underpaid)\n",
      "All Good Naysayers, Speak Up! Or Forever Hold Your Peace!\n",
      "The Upper Peninsula\n",
      "Oh God, Where Are You Now?\n",
      "Sleeping Bear, Sault Saint Marie\n"
     ]
    }
   ],
   "source": [
    "for text in all_texts:\n",
    "    print(text['title'])"
   ]
  },
  {
   "cell_type": "markdown",
   "metadata": {},
   "source": [
    "## Part Two:  searching within lists and dictionaries\n",
    "In this part, we will be searching through each text and printing out a desired result. The searches, including loops and printing should all be defined in the function. The second cell should just have to function call that executes the function. I have written an example function and call for the first search. For each function that you write you should copy the original function and modify it so what does what I ask for.\n",
    "\n",
    "For the first five functions, there are no parameters passed to the functions--the calls will just execute the function. Go step-by-step and take your time."
   ]
  },
  {
   "cell_type": "code",
   "execution_count": 12,
   "metadata": {},
   "outputs": [],
   "source": [
    "def get_lengths():\n",
    "    for text in all_texts:\n",
    "        print(text['title'])\n",
    "        print(len(text['text_as_string']))\n",
    "        print(\"------------\")"
   ]
  },
  {
   "cell_type": "code",
   "execution_count": 13,
   "metadata": {},
   "outputs": [
    {
     "name": "stdout",
     "output_type": "stream",
     "text": [
      "Flint (For The Unemployed And Underpaid)\n",
      "418\n",
      "------------\n",
      "All Good Naysayers, Speak Up! Or Forever Hold Your Peace!\n",
      "620\n",
      "------------\n",
      "The Upper Peninsula\n",
      "462\n",
      "------------\n",
      "Oh God, Where Are You Now?\n",
      "645\n",
      "------------\n",
      "Sleeping Bear, Sault Saint Marie\n",
      "284\n",
      "------------\n"
     ]
    }
   ],
   "source": [
    "get_lengths()"
   ]
  },
  {
   "cell_type": "markdown",
   "metadata": {},
   "source": [
    "Question 1\n",
    "Now write a function that gets the **line count for each poem** (or sentence count for each piece of prose). This function is going to be very similar to the last one. Instead of accessing the whole text via text['text_as_string'] which is a string, you need to access the list of lines/sentences and get the length of that list. Everything else should be the same."
   ]
  },
  {
   "cell_type": "code",
   "execution_count": 14,
   "metadata": {},
   "outputs": [],
   "source": [
    "def get_line_count():\n",
    "    for text in all_texts:\n",
    "        print(text['title'])\n",
    "        print(len(text['lines']))\n",
    "        print(\"------------\")"
   ]
  },
  {
   "cell_type": "code",
   "execution_count": 15,
   "metadata": {},
   "outputs": [
    {
     "name": "stdout",
     "output_type": "stream",
     "text": [
      "Flint (For The Unemployed And Underpaid)\n",
      "22\n",
      "------------\n",
      "All Good Naysayers, Speak Up! Or Forever Hold Your Peace!\n",
      "18\n",
      "------------\n",
      "The Upper Peninsula\n",
      "14\n",
      "------------\n",
      "Oh God, Where Are You Now?\n",
      "26\n",
      "------------\n",
      "Sleeping Bear, Sault Saint Marie\n",
      "15\n",
      "------------\n"
     ]
    }
   ],
   "source": [
    "get_line_count()"
   ]
  },
  {
   "cell_type": "markdown",
   "metadata": {},
   "source": [
    "Question 2\n",
    "Now write a function that prints out **one random line or sentence from each text**. Again, this function will look much the same as the last ones, but instead of getting numbers you need to get actual lines. I have included the necessary import and an example of how to get random integers. Basically, for each text you need to get one element from the list of lines/ sentences with a random number between 0 and the length of the list."
   ]
  },
  {
   "cell_type": "code",
   "execution_count": 18,
   "metadata": {},
   "outputs": [],
   "source": [
    "from random import randint\n",
    "\n",
    "def show_random_lines():\n",
    "    for text in all_texts:\n",
    "        random_num = randint(0, len(text['lines']))\n",
    "        print(text['title'])\n",
    "        print(text['lines'][random_num])\n",
    "        print(\"------------\")\n",
    "\n",
    "# This should be inside the inner loop \n",
    "# so you get a fresh random number for each text\n",
    "# And it should not be from 0 to 9, but 0 to what?\n",
    "# Keep in mind that the range (0,9) give you any number \n",
    "# from 0 to 9 including both 0 and 9.\n",
    "# # random_num = randint(0, 9)"
   ]
  },
  {
   "cell_type": "code",
   "execution_count": 19,
   "metadata": {},
   "outputs": [
    {
     "name": "stdout",
     "output_type": "stream",
     "text": [
      "Flint (For The Unemployed And Underpaid)\n",
      "Lost my job and lost my room\n",
      "------------\n",
      "All Good Naysayers, Speak Up! Or Forever Hold Your Peace!\n",
      "All we praise is all we want in commerce\n",
      "------------\n",
      "The Upper Peninsula\n",
      "I lost my mind, I lost my life\n",
      "------------\n",
      "Oh God, Where Are You Now?\n",
      "There's no other man who could save the dead \n",
      "------------\n",
      "Sleeping Bear, Sault Saint Marie\n",
      "and give us the rod. \n",
      "------------\n"
     ]
    }
   ],
   "source": [
    "show_random_lines()"
   ]
  },
  {
   "cell_type": "markdown",
   "metadata": {},
   "source": [
    "Question 3\n",
    "This is a little bit different--instead of printing out something from each text, I want you to **print the entire text of the longest text**. Remember in the first function, I printed out the length of each text. Well, you need to test for the longest text as you look through and when you're done looping through print out the one that is longest.\n",
    "\n",
    "**Major hints!**: To do this you will need two **tracking variables** set before the loop runs: A numerical one that tracks the longest length (the number), and string variable remembers the actual text that has that length.\n",
    "\n",
    "Like this: longest_length = 0 and longest_text = \"\"\n",
    "\n",
    "When you loop through you need to test if each text was longer than the last one, and if it is longer--you update longest_length and longest_text to reflect the highest length, and the actual text. When the loop is over you then print out that longest_text string."
   ]
  },
  {
   "cell_type": "code",
   "execution_count": 26,
   "metadata": {},
   "outputs": [],
   "source": [
    "def longest_text():\n",
    "    longest_length = 0 \n",
    "    longest_text = \"\"\n",
    "    for text in all_texts:\n",
    "        if len(text['text_as_string']) >= longest_length:\n",
    "            longest_length = len(text['text_as_string'])\n",
    "            longest_text = text\n",
    "        else:\n",
    "            pass\n",
    "    print(longest_text['title'])\n",
    "    print(\"------------\")\n",
    "    print(*longest_text['lines'], sep = \"\\n\")"
   ]
  },
  {
   "cell_type": "code",
   "execution_count": 27,
   "metadata": {},
   "outputs": [
    {
     "name": "stdout",
     "output_type": "stream",
     "text": [
      "Oh God, Where Are You Now?\n",
      "------------\n",
      "Oh God, hold me now \n",
      "Oh Lord, hold me now \n",
      "There's no other man who could raise the dead \n",
      "So do what you can to anoint my head \n",
      "\n",
      "Oh God, where are you now? \n",
      "Oh Lord, say somehow \n",
      "The devil is hard on my face again \n",
      "The world is a hundred to one again \n",
      "\n",
      "Would the righteous still remain? \n",
      "Would my body stay the same? \n",
      "\n",
      "Oh God, hold me now \n",
      "Oh God, touch me now \n",
      "There's no other man who could save the dead \n",
      "There's no other God to place our head \n",
      "\n",
      "Would the righteous still remain? \n",
      "Would my body stay the same? \n",
      "\n",
      "There's no other man who could raise the dead \n",
      "So do what you can to anoint my head \n",
      "\n",
      "Oh God, hold me now \n",
      "Oh Lord, touch me now\n"
     ]
    }
   ],
   "source": [
    "longest_text()"
   ]
  },
  {
   "cell_type": "markdown",
   "metadata": {},
   "source": [
    "Question 4\n",
    "This is kind of a combination of the first two functions--write a function that gets the **average line/sentence length for each text**."
   ]
  },
  {
   "cell_type": "code",
   "execution_count": 22,
   "metadata": {},
   "outputs": [],
   "source": [
    "from statistics import mean\n",
    "\n",
    "def average_line_length():\n",
    "    for text in all_texts:\n",
    "        text_line_len = []\n",
    "        for line in text['lines']:\n",
    "            text_line_len.append(len(line))\n",
    "        print(text['title'])\n",
    "        print(round(mean(text_line_len),1))\n",
    "        print(\"------------\")"
   ]
  },
  {
   "cell_type": "code",
   "execution_count": 23,
   "metadata": {},
   "outputs": [
    {
     "name": "stdout",
     "output_type": "stream",
     "text": [
      "Flint (For The Unemployed And Underpaid)\n",
      "18.0\n",
      "------------\n",
      "All Good Naysayers, Speak Up! Or Forever Hold Your Peace!\n",
      "33.4\n",
      "------------\n",
      "The Upper Peninsula\n",
      "31.9\n",
      "------------\n",
      "Oh God, Where Are You Now?\n",
      "23.8\n",
      "------------\n",
      "Sleeping Bear, Sault Saint Marie\n",
      "17.9\n",
      "------------\n"
     ]
    }
   ],
   "source": [
    "average_line_length()"
   ]
  },
  {
   "cell_type": "markdown",
   "metadata": {},
   "source": [
    "Question 5\n",
    "**Print the longest line/sentence in each text**. \n",
    "This is similar to question 3--but your two tracking variables (longest_length and longest_line) need to be placed right before the inside loop--and then you print the lines each time the inside loop ends."
   ]
  },
  {
   "cell_type": "code",
   "execution_count": 24,
   "metadata": {},
   "outputs": [],
   "source": [
    "def longest_line_in_each():\n",
    "    for text in all_texts:\n",
    "        longest_length = 0 \n",
    "        longest_line = \"\"\n",
    "        for line in text['lines']:\n",
    "            if len(line) >= longest_length:\n",
    "                longest_length = len(line)\n",
    "                longest_line = line\n",
    "        print(text['title'])\n",
    "        print(longest_line)\n",
    "        print(\"------------\")"
   ]
  },
  {
   "cell_type": "code",
   "execution_count": 25,
   "metadata": {},
   "outputs": [
    {
     "name": "stdout",
     "output_type": "stream",
     "text": [
      "Flint (For The Unemployed And Underpaid)\n",
      "Use my hands to use my heart\n",
      "------------\n",
      "All Good Naysayers, Speak Up! Or Forever Hold Your Peace!\n",
      "Is not the kind of thoughts in spite of greatness\n",
      "------------\n",
      "The Upper Peninsula\n",
      "The window is broken out and the interstate is far\n",
      "------------\n",
      "Oh God, Where Are You Now?\n",
      "There's no other man who could raise the dead \n",
      "------------\n",
      "Sleeping Bear, Sault Saint Marie\n",
      "Ran to the top and got scared \n",
      "------------\n"
     ]
    }
   ],
   "source": [
    "longest_line_in_each()"
   ]
  },
  {
   "cell_type": "markdown",
   "metadata": {},
   "source": [
    "Question 6\n",
    "**Print the shortest single line/sentence out of all of the texts that is greater than zero**\n",
    "This is the tricky-ish: You need to place the tracking variables outside the loop (like question 4, but the loop through all of the lines, test for the shortest one (greater than 0)."
   ]
  },
  {
   "cell_type": "code",
   "execution_count": 28,
   "metadata": {},
   "outputs": [],
   "source": [
    "def shortest_of_all_lines():\n",
    "    for text in all_texts:\n",
    "        shortest_length = 999\n",
    "        shortest_line = \"\"\n",
    "        for line in text['lines']:\n",
    "            if len(line) < shortest_length and len(line) != 0:\n",
    "                shortest_length = len(line)\n",
    "                shortest_line = line\n",
    "        print(text['title'])\n",
    "        print(shortest_line)\n",
    "        print(\"------------\")"
   ]
  },
  {
   "cell_type": "code",
   "execution_count": 29,
   "metadata": {},
   "outputs": [
    {
     "name": "stdout",
     "output_type": "stream",
     "text": [
      "Flint (For The Unemployed And Underpaid)\n",
      "Even if I died\n",
      "------------\n",
      "All Good Naysayers, Speak Up! Or Forever Hold Your Peace!\n",
      "That's the right solution!)\n",
      "------------\n",
      "The Upper Peninsula\n",
      "I lost my job, I lost my wife\n",
      "------------\n",
      "Oh God, Where Are You Now?\n",
      "Oh God, hold me now \n",
      "------------\n",
      "Sleeping Bear, Sault Saint Marie\n",
      "Oh Lamb of God! \n",
      "------------\n"
     ]
    }
   ],
   "source": [
    "shortest_of_all_lines()"
   ]
  },
  {
   "cell_type": "markdown",
   "metadata": {},
   "source": [
    "## searching with regular expressions\n",
    "In the functions below you will search all the texts using regular expressions. The first few of these functions should not be too challenging--you just need to adjust the regular expression inside the function. At points it gets a little more complex as you have to control the looping through the lists and dictionaries."
   ]
  },
  {
   "cell_type": "code",
   "execution_count": 70,
   "metadata": {},
   "outputs": [],
   "source": [
    "def get_this_word(word):\n",
    "    my_regex = r\"\\b\" + word + r\"\\b\"\n",
    "    for text in all_texts:\n",
    "        result = [line for line in text['lines'] if re.search(my_regex, line, re.IGNORECASE)]\n",
    "        if len(result) > 0:\n",
    "            print(text['title'])\n",
    "            [print(line) for line in result]\n",
    "            print(\"------------\")"
   ]
  },
  {
   "cell_type": "code",
   "execution_count": 72,
   "metadata": {},
   "outputs": [
    {
     "name": "stdout",
     "output_type": "stream",
     "text": [
      "Oh God, Where Are You Now?\n",
      "Oh God, hold me now \n",
      "Oh God, where are you now? \n",
      "Oh God, hold me now \n",
      "Oh God, touch me now \n",
      "There's no other God to place our head \n",
      "Oh God, hold me now \n",
      "------------\n",
      "Sleeping Bear, Sault Saint Marie\n",
      "Oh Lamb of God! \n",
      "------------\n"
     ]
    }
   ],
   "source": [
    "get_this_word('god')"
   ]
  },
  {
   "cell_type": "markdown",
   "metadata": {},
   "source": [
    "Question 7\n",
    "Print out the lines that **start** with the word entered.  You just need to adjust the regular expression here."
   ]
  },
  {
   "cell_type": "code",
   "execution_count": 58,
   "metadata": {},
   "outputs": [],
   "source": [
    "def line_starts_with(word):\n",
    "    my_regex = r\"^\" + word + r\"\\b\"\n",
    "    for text in all_texts:\n",
    "        result = [line for line in text['lines'] if re.search(my_regex, line, re.IGNORECASE)]\n",
    "        if len(result) > 0:\n",
    "            print(text['title'])\n",
    "            [print(line) for line in result]\n",
    "            print(\"------------\")"
   ]
  },
  {
   "cell_type": "code",
   "execution_count": 57,
   "metadata": {},
   "outputs": [
    {
     "name": "stdout",
     "output_type": "stream",
     "text": [
      "The Upper Peninsula\n",
      "The Upper Peninsula and the television news\n",
      "The window is broken out and the interstate is far\n",
      "------------\n",
      "Oh God, Where Are You Now?\n",
      "There's no other man who could raise the dead \n",
      "The devil is hard on my face again \n",
      "The world is a hundred to one again \n",
      "There's no other man who could save the dead \n",
      "There's no other God to place our head \n",
      "There's no other man who could raise the dead \n",
      "------------\n",
      "Sleeping Bear, Sault Saint Marie\n",
      "the rocking boats drowned. \n",
      "The Captain is done\n",
      "------------\n"
     ]
    }
   ],
   "source": [
    "line_starts_with('the')"
   ]
  },
  {
   "cell_type": "markdown",
   "metadata": {},
   "source": [
    "Question 8\n",
    "Print out the lines that **end** with the word entered.  You just need to adjust the regular expression here."
   ]
  },
  {
   "cell_type": "code",
   "execution_count": 64,
   "metadata": {},
   "outputs": [],
   "source": [
    "def line_ends_with(word):\n",
    "    my_regex = r\"\\b\" + word + r\"\\S*$\"\n",
    "    for text in all_texts:\n",
    "        result = [line for line in text['lines'] if re.search(my_regex, line, re.IGNORECASE)]\n",
    "        if len(result) > 0:\n",
    "            print(text['title'])\n",
    "            [print(line) for line in result]\n",
    "            print(\"------------\")"
   ]
  },
  {
   "cell_type": "code",
   "execution_count": 65,
   "metadata": {},
   "outputs": [
    {
     "name": "stdout",
     "output_type": "stream",
     "text": [
      "Sleeping Bear, Sault Saint Marie\n",
      "The Captain is done\n",
      "------------\n"
     ]
    }
   ],
   "source": [
    "line_ends_with('done')"
   ]
  },
  {
   "cell_type": "markdown",
   "metadata": {},
   "source": [
    "Question 9\n",
    "Print out **how many times the word was found in each text.** In this case, instead of the list comprehension, you want to run a re.findall() on the string of the text (not the list) and then count the number of elements in the list of results.\n",
    "\n",
    "Hint: use the original function at the beginning of this section, and make the proper adjustments to the variable \"result\""
   ]
  },
  {
   "cell_type": "code",
   "execution_count": 67,
   "metadata": {},
   "outputs": [],
   "source": [
    "def how_many_times(word):\n",
    "    for text in all_texts:\n",
    "        word_count = len(re.findall(r\"\\b\" + word + r\"\\b\", text['text_as_string'], re.IGNORECASE))\n",
    "        print(text['title'])\n",
    "        print(word_count)\n",
    "        print(\"------------\")"
   ]
  },
  {
   "cell_type": "code",
   "execution_count": 68,
   "metadata": {},
   "outputs": [
    {
     "name": "stdout",
     "output_type": "stream",
     "text": [
      "Flint (For The Unemployed And Underpaid)\n",
      "5\n",
      "------------\n",
      "All Good Naysayers, Speak Up! Or Forever Hold Your Peace!\n",
      "5\n",
      "------------\n",
      "The Upper Peninsula\n",
      "5\n",
      "------------\n",
      "Oh God, Where Are You Now?\n",
      "9\n",
      "------------\n",
      "Sleeping Bear, Sault Saint Marie\n",
      "4\n",
      "------------\n"
     ]
    }
   ],
   "source": [
    "how_many_times('the')"
   ]
  },
  {
   "cell_type": "markdown",
   "metadata": {},
   "source": [
    "Question 10\n",
    "Print out **the text that has the highest occurrence of the word** you searched for. This is similar to the last function, but here you need tracking variables like you had in Question 3.\n"
   ]
  },
  {
   "cell_type": "code",
   "execution_count": null,
   "metadata": {},
   "outputs": [],
   "source": [
    "#Write your function here"
   ]
  },
  {
   "cell_type": "code",
   "execution_count": null,
   "metadata": {},
   "outputs": [],
   "source": [
    "text_with_most_occurance_of('word')"
   ]
  },
  {
   "cell_type": "markdown",
   "metadata": {},
   "source": [
    "Question 11\n",
    "Print out **lines containing words of the length asked**. We are sort of back to basics here, you just need to modify the regular expression of the first function (get_this_word(word)) so that it can take a number parameter for the length of characters in a word."
   ]
  },
  {
   "cell_type": "code",
   "execution_count": null,
   "metadata": {},
   "outputs": [],
   "source": [
    "#Write your function here"
   ]
  },
  {
   "cell_type": "code",
   "execution_count": null,
   "metadata": {},
   "outputs": [],
   "source": [
    "lines_with_words_this_length('10')"
   ]
  },
  {
   "cell_type": "markdown",
   "metadata": {
    "collapsed": true
   },
   "source": [
    "**Final question:** in this cell, describe two functions that you would like to write, not ones that you're able to write, but ones you think would be useful or interesting or fun. If you feel like trying to write it, go-ahead!"
   ]
  },
  {
   "cell_type": "code",
   "execution_count": null,
   "metadata": {},
   "outputs": [],
   "source": []
  },
  {
   "cell_type": "markdown",
   "metadata": {
    "collapsed": true
   },
   "source": [
    "**Bonus question:** Write a function that counts word frequency: that is, it returns a dictionary with each unique word and its count, sorted by the most frequent. Note, this is highly stack-overflowable -- Python has some built in ways of doing this. If you're doing this, you might as well try to do it on your own. But it's up to you!"
   ]
  },
  {
   "cell_type": "code",
   "execution_count": null,
   "metadata": {},
   "outputs": [],
   "source": []
  }
 ],
 "metadata": {
  "kernelspec": {
   "display_name": "Python 3",
   "language": "python",
   "name": "python3"
  },
  "language_info": {
   "codemirror_mode": {
    "name": "ipython",
    "version": 3
   },
   "file_extension": ".py",
   "mimetype": "text/x-python",
   "name": "python",
   "nbconvert_exporter": "python",
   "pygments_lexer": "ipython3",
   "version": "3.7.3"
  }
 },
 "nbformat": 4,
 "nbformat_minor": 2
}
